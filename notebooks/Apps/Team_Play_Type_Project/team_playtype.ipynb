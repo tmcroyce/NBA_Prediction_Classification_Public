{
 "cells": [
  {
   "cell_type": "code",
   "execution_count": 30,
   "metadata": {},
   "outputs": [],
   "source": [
    "import pandas as pd\n",
    "import numpy as np\n",
    "import matplotlib.pyplot as plt\n",
    "%matplotlib inline\n",
    "import matplotlib.ticker as mtick\n",
    "import sqlite3\n",
    "import seaborn as sns\n",
    "from matplotlib.offsetbox import OffsetImage, AnnotationBbox\n",
    "from selenium import webdriver\n",
    "from selenium.webdriver.common.keys import Keys\n",
    "from bs4 import BeautifulSoup\n",
    "from selenium.webdriver.common.by import By\n",
    "from selenium.webdriver.support.ui import WebDriverWait\n",
    "from selenium.webdriver.support import expected_conditions as EC\n",
    "import time\n",
    "import requests   \n",
    "import shutil      \n",
    "import datetime\n",
    "from scipy.stats import norm\n",
    "from sklearn.preprocessing import OneHotEncoder, OrdinalEncoder\n",
    "import os\n",
    "import winsound\n",
    "os.chdir('C:\\\\Users\\\\Travis\\\\OneDrive\\\\Data Science\\\\Personal_Projects\\\\Sports\\\\NBA_Prediction_V3_1')\n",
    "from bs4 import BeautifulSoup\n",
    "import warnings\n",
    "warnings.filterwarnings('ignore')"
   ]
  },
  {
   "cell_type": "code",
   "execution_count": 31,
   "metadata": {},
   "outputs": [],
   "source": [
    "def scrape_team_playtype_data(playtype, offense_or_defense):\n",
    "    if playtype == 'isolation':\n",
    "        if offense_or_defense == 'offense':\n",
    "            url = 'https://www.nba.com/stats/teams/isolation'\n",
    "        elif offense_or_defense == 'defense':\n",
    "            url = 'https://www.nba.com/stats/teams/isolation?TypeGrouping=defensive'\n",
    "    elif playtype == 'postup':\n",
    "        if offense_or_defense == 'offense':\n",
    "            url = 'https://www.nba.com/stats/teams/playtype-post-up'\n",
    "        elif offense_or_defense == 'defense':\n",
    "            url = 'https://www.nba.com/stats/teams/playtype-post-up?TypeGrouping=defensive'\n",
    "    elif playtype == 'prb':\n",
    "        if offense_or_defense == 'offense':\n",
    "            url = 'https://www.nba.com/stats/teams/ball-handler'\n",
    "        elif offense_or_defense == 'defense':\n",
    "            url = 'https://www.nba.com/stats/teams/ball-handler?TypeGrouping=defensive'\n",
    "    elif playtype == 'spotup':\n",
    "        if offense_or_defense == 'offense':\n",
    "            url = 'https://www.nba.com/stats/teams/spot-up'\n",
    "        elif offense_or_defense == 'defense':\n",
    "            url = 'https://www.nba.com/stats/teams/spot-up?TypeGrouping=defensive'\n",
    "    elif playtype == 'handoff':\n",
    "        if offense_or_defense == 'offense':\n",
    "            url = 'https://www.nba.com/stats/teams/hand-off'\n",
    "        elif offense_or_defense == 'defense':\n",
    "            url = 'https://www.nba.com/stats/teams/hand-off?TypeGrouping=defensive'\n",
    "    elif playtype == 'cut':\n",
    "        if offense_or_defense == 'offense':\n",
    "            url = 'https://www.nba.com/stats/teams/cut'\n",
    "        elif offense_or_defense == 'defense':\n",
    "            url = 'https://www.nba.com/stats/teams/cut?TypeGrouping=defensive'\n",
    "    elif playtype == 'offscreen':\n",
    "        if offense_or_defense == 'offense':\n",
    "            url = 'https://www.nba.com/stats/teams/off-screen'\n",
    "        elif offense_or_defense == 'defense':\n",
    "            url = 'https://www.nba.com/stats/teams/off-screen?TypeGrouping=defensive'\n",
    "    elif playtype == 'transition':\n",
    "        if offense_or_defense == 'offense':\n",
    "            url = 'https://www.nba.com/stats/teams/transition'\n",
    "        elif offense_or_defense == 'defense':\n",
    "            url = 'https://www.nba.com/stats/teams/transition?TypeGrouping=defensive'\n",
    "    elif playtype == 'pnr':\n",
    "        if offense_or_defense == 'offense':\n",
    "            url = 'https://www.nba.com/stats/teams/roll-man'\n",
    "        elif offense_or_defense == 'defense':\n",
    "            url = 'https://www.nba.com/stats/teams/roll-man?TypeGrouping=defensive'\n",
    "    elif playtype == 'putbacks':\n",
    "        if offense_or_defense == 'offense':\n",
    "            url = 'https://www.nba.com/stats/teams/putbacks'\n",
    "        elif offense_or_defense == 'defense':\n",
    "            url = 'https://www.nba.com/stats/teams/putbacks?TypeGrouping=defensive'\n",
    "    elif playtype == 'misc':\n",
    "        if offense_or_defense == 'offense':\n",
    "            url = 'https://www.nba.com/stats/teams/misc'\n",
    "        elif offense_or_defense == 'defense':\n",
    "            url = 'https://www.nba.com/stats/teams/misc?TypeGrouping=defensive'\n",
    "\n",
    "    driver = webdriver.Chrome()\n",
    "    driver.get(url)\n",
    "    time.sleep(5)\n",
    "    src = driver.page_source\n",
    "    parser = BeautifulSoup(src, 'lxml')\n",
    "    table = parser.find(\"div\", attrs = {\"class\":\"Crom_base__f0niE\"})\n",
    "    headers = table.findAll('th')\n",
    "    headerlist = [h.text.strip() for h in headers[0:]] \n",
    "    row_names = table.findAll('a')                          \n",
    "    row_list = [b.text.strip() for b in row_names[0:]] \n",
    "    rows = table.findAll('tr')[0:]\n",
    "    player_stats = [[td.getText().strip() for td in rows[i].findAll('td')[0:]] for i in range(len(rows))]\n",
    "    tot_cols = len(player_stats[1])                           #set the length to ignore hidden columns\n",
    "    headerlist = headerlist[:tot_cols] \n",
    "    stats = pd.DataFrame(player_stats, columns = headerlist)\n",
    "    # close driver\n",
    "    driver.close()\n",
    "\n",
    "    return stats"
   ]
  },
  {
   "cell_type": "code",
   "execution_count": 32,
   "metadata": {},
   "outputs": [
    {
     "data": {
      "text/plain": [
       "'2023-01-12'"
      ]
     },
     "execution_count": 32,
     "metadata": {},
     "output_type": "execute_result"
    }
   ],
   "source": [
    "today = datetime.date.today()\n",
    "today = today.strftime('%Y-%m-%d')\n",
    "today"
   ]
  },
  {
   "cell_type": "code",
   "execution_count": 37,
   "metadata": {},
   "outputs": [
    {
     "name": "stdout",
     "output_type": "stream",
     "text": [
      "Already scraped today\n"
     ]
    }
   ],
   "source": [
    "files = os.listdir('data/team/Playtypes/defensive_playtypes/')\n",
    "files = [f for f in files if f.endswith('.csv')]\n",
    "# drop csv extension\n",
    "files = [f[:-4] for f in files]\n",
    "if today in files:\n",
    "    print('Already scraped today')\n",
    "else:\n",
    "    playtype_list = ['isolation', 'postup', 'prb', 'pnr', 'spotup', 'handoff', 'cut', 'offscreen', 'transition', 'putbacks', 'misc']\n",
    "    offense_or_defense_list = ['offense', 'defense']\n",
    "\n",
    "    for playtype in playtype_list:\n",
    "        for offense_or_defense in offense_or_defense_list:\n",
    "            df = scrape_team_playtype_data(playtype, offense_or_defense)\n",
    "            df.to_csv('data/team/Playtypes/' + playtype + '_' + offense_or_defense + today + '.csv', index = False)\n",
    "\n",
    "    files = os.listdir('data/team/Playtypes')\n",
    "    off_files = [f for f in files if 'offense' in f]\n",
    "    off_files = [f for f in off_files if today in f]\n",
    "    def_files = [f for f in files if 'defense' in f]\n",
    "    def_files = [f for f in def_files if today in f]\n",
    "\n",
    "\n",
    "    # make master df of all playtypes\n",
    "    df = pd.DataFrame()\n",
    "    for file in off_files:\n",
    "        data = pd.read_csv('data/team/Playtypes/' + file)\n",
    "        data['play_type'] = file.split('_')[0]\n",
    "        df = df.append(data)\n",
    "\n",
    "    df.to_csv('data/team/Playtypes/offensive_playtypes/'+ today + '.csv', index = False)\n",
    "\n",
    "    # defensive\n",
    "    df = pd.DataFrame()\n",
    "    for file in def_files:\n",
    "        data = pd.read_csv('data/team/Playtypes/' + file)\n",
    "        data['play_type'] = file.split('_')[0]\n",
    "        df = df.append(data)\n",
    "\n",
    "    df.to_csv('data/team/Playtypes/defensive_playtypes/'+ today + '.csv', index = False)\n",
    "\n",
    "df"
   ]
  },
  {
   "cell_type": "markdown",
   "metadata": {},
   "source": []
  }
 ],
 "metadata": {
  "kernelspec": {
   "display_name": "Python 3.10.8 ('Trav310')",
   "language": "python",
   "name": "python3"
  },
  "language_info": {
   "codemirror_mode": {
    "name": "ipython",
    "version": 3
   },
   "file_extension": ".py",
   "mimetype": "text/x-python",
   "name": "python",
   "nbconvert_exporter": "python",
   "pygments_lexer": "ipython3",
   "version": "3.10.8"
  },
  "orig_nbformat": 4,
  "vscode": {
   "interpreter": {
    "hash": "f69e36f0e9b2c8d9f319b417484f14b77c91d7bef950ad448542405eb1e0e594"
   }
  }
 },
 "nbformat": 4,
 "nbformat_minor": 2
}
