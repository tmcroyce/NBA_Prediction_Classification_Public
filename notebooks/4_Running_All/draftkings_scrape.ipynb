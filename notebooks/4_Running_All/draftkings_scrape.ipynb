{
 "cells": [
  {
   "cell_type": "code",
   "execution_count": 1,
   "metadata": {},
   "outputs": [],
   "source": [
    "import pandas as pd\n",
    "import numpy as np\n",
    "import matplotlib.pyplot as plt\n",
    "%matplotlib inline\n",
    "import matplotlib.ticker as mtick\n",
    "import sqlite3\n",
    "import seaborn as sns\n",
    "from matplotlib.offsetbox import OffsetImage, AnnotationBbox\n",
    "from selenium import webdriver\n",
    "from selenium.webdriver.common.keys import Keys\n",
    "from bs4 import BeautifulSoup\n",
    "from selenium.webdriver.common.by import By\n",
    "from selenium.webdriver.support.ui import WebDriverWait\n",
    "from selenium.webdriver.support import expected_conditions as EC\n",
    "import time\n",
    "import requests   \n",
    "import shutil      \n",
    "import datetime\n",
    "from scipy.stats import norm\n",
    "from sklearn.preprocessing import OneHotEncoder, OrdinalEncoder\n",
    "import os\n",
    "import winsound\n",
    "os.chdir('C:\\\\Users\\\\Travis\\\\OneDrive\\\\Data Science\\\\Personal_Projects\\\\Sports\\\\NBA_Prediction_V3_1')\n",
    "import warnings\n",
    "warnings.filterwarnings('ignore')\n",
    "\n",
    "from selenium.common.exceptions import WebDriverException\n"
   ]
  },
  {
   "cell_type": "code",
   "execution_count": 31,
   "metadata": {},
   "outputs": [],
   "source": [
    "url = 'https://sportsbook.draftkings.com/leagues/basketball/nba'\n",
    "driver = webdriver.Chrome()\n",
    "driver.get(url)\n",
    "\n",
    "# find table (class sportsbook-table)\n",
    "table = driver.find_element_by_class_name('sportsbook-table')\n",
    "# get all html in table\n",
    "table_html = table.get_attribute('innerHTML')\n",
    "# convert to soup\n",
    "soup = BeautifulSoup(table_html, 'html.parser')\n",
    "# find all rows\n",
    "rows = soup.find_all('tr')\n",
    "# find all headers\n",
    "headers = table.find_element_by_class_name('sportsbook-table__head')\n",
    "headers = headers.find_elements_by_tag_name('th')\n",
    "headers = [header.text for header in headers]\n",
    "headers\n",
    "\n",
    "# find all rows\n",
    "rows = table.find_elements_by_tag_name('tr')\n",
    "# get all html in each row\n",
    "rows_html = [row.get_attribute('innerHTML') for row in rows]\n",
    "# convert to soup\n",
    "rows_soup = [BeautifulSoup(row, 'html.parser') for row in rows_html]\n",
    "# find all cells in each row\n",
    "rows_cells = [row.find_all('td') for row in rows_soup]\n",
    "# drop first row (headers)\n",
    "rows_cells = rows_cells[1:]\n",
    "# get text from each cell\n",
    "rows_cells_text = [[cell.text for cell in row] for row in rows_cells]\n",
    "names = table.find_elements_by_class_name('event-cell__name')\n",
    "names = [name.text for name in names]\n",
    "\n",
    "# add names to rows_cells_text\n",
    "for i in range(len(rows_cells_text)):\n",
    "    rows_cells_text[i].insert(0, names[i])\n",
    "\n",
    "# convert to dataframe\n",
    "rows_cells_text\n",
    "df = pd.DataFrame(rows_cells_text, columns=headers)\n",
    "df['spread_odds'] = df['SPREAD'].str[-4:]\n",
    "df['SPREAD'] = df['SPREAD'].str[:-4]\n",
    "df['total_odds'] = df['TOTAL'].str[-4:]\n",
    "df['TOTAL'] = df['TOTAL'].str[:-4]\n",
    "df\n"
   ]
  }
 ],
 "metadata": {
  "kernelspec": {
   "display_name": "Trav310",
   "language": "python",
   "name": "python3"
  },
  "language_info": {
   "codemirror_mode": {
    "name": "ipython",
    "version": 3
   },
   "file_extension": ".py",
   "mimetype": "text/x-python",
   "name": "python",
   "nbconvert_exporter": "python",
   "pygments_lexer": "ipython3",
   "version": "3.10.8 | packaged by conda-forge | (main, Nov  4 2022, 13:42:51) [MSC v.1916 64 bit (AMD64)]"
  },
  "orig_nbformat": 4,
  "vscode": {
   "interpreter": {
    "hash": "f69e36f0e9b2c8d9f319b417484f14b77c91d7bef950ad448542405eb1e0e594"
   }
  }
 },
 "nbformat": 4,
 "nbformat_minor": 2
}
