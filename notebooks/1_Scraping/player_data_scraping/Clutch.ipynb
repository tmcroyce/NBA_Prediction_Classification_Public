{
 "cells": [
  {
   "cell_type": "code",
   "execution_count": 1,
   "metadata": {},
   "outputs": [],
   "source": [
    "import pandas as pd\n",
    "import numpy as np\n",
    "import matplotlib.pyplot as plt\n",
    "%matplotlib inline\n",
    "import matplotlib.ticker as mtick\n",
    "import sqlite3\n",
    "import seaborn as sns\n",
    "from matplotlib.offsetbox import OffsetImage, AnnotationBbox\n",
    "from selenium import webdriver\n",
    "from selenium.webdriver.common.keys import Keys\n",
    "from bs4 import BeautifulSoup\n",
    "from selenium.webdriver.common.by import By\n",
    "from selenium.webdriver.support.ui import WebDriverWait\n",
    "from selenium.webdriver.support import expected_conditions as EC\n",
    "import time\n",
    "import requests   \n",
    "import shutil      \n",
    "import datetime\n",
    "from scipy.stats import norm\n",
    "import os\n",
    "import winsound\n",
    "\n",
    "home_folder = 'C:\\\\Users\\\\Travis\\\\OneDrive\\\\Data Science\\\\Personal_Projects\\\\Sports\\\\NBA_Prediction_V3_1'\n",
    "os.chdir(home_folder)"
   ]
  },
  {
   "cell_type": "code",
   "execution_count": 2,
   "metadata": {},
   "outputs": [],
   "source": [
    "def replace_name_values2(filename):\n",
    "        # replace values with dashes for compatibility\n",
    "    filename = filename.replace('%','_')\n",
    "    filename = filename.replace('=','_')\n",
    "    filename = filename.replace('?','_')\n",
    "    filename = filename.replace('&','_')\n",
    "    filename = filename.replace('20Season_','')\n",
    "    filename = filename.replace('_20Season','')\n",
    "    filename = filename.replace('SeasonType_','')\n",
    "    filename = filename.replace('sort_gdate_dir_-1_','')\n",
    "    filename = filename.replace('SeasonYear_','')\n",
    "    return filename"
   ]
  },
  {
   "cell_type": "code",
   "execution_count": 3,
   "metadata": {},
   "outputs": [],
   "source": [
    "def clutch_url_to_filename(url):\n",
    "    l = len('https://www.nba.com/stats/players/')\n",
    "    url = url[l:]\n",
    "    filename = replace_name_values2(url)\n",
    "    filename = filename.replace('/', '_')\n",
    "    return filename"
   ]
  },
  {
   "cell_type": "code",
   "execution_count": 4,
   "metadata": {},
   "outputs": [],
   "source": [
    "def append_the_data(folder, data_prefix, filename_selector):\n",
    "    # Appending data together via folder and/or file name\n",
    "\n",
    "    path = folder\n",
    "    p = os.listdir(path)\n",
    "    pf = pd.DataFrame(p)\n",
    "\n",
    "\n",
    "    # filter for files that contain the filename_selector\n",
    "    pf_reg = pf.loc[pf[0].astype(str).str.contains(filename_selector)] \n",
    "\n",
    "    appended_data = []\n",
    "    for file in pf_reg[0]:\n",
    "        data = pd.read_csv(folder + '/' + file)\n",
    "        # if \"Season\" a column, drop it\n",
    "        if 'Season' in data.columns:\n",
    "            data = data.drop(columns = ['Season'])\n",
    "        \n",
    "        data['season'] = file[(file.find('20')):(file.find('20'))+4]\n",
    "        data['season_type'] = np.where('Regular' in file, 'Regular', 'Playoffs')\n",
    "        # add prefix to columns\n",
    "        data = data.add_prefix(data_prefix)\n",
    "        data.columns = data.columns.str.lower()\n",
    "        appended_data.append(data)\n",
    "    \n",
    "    appended_data = pd.concat(appended_data)\n",
    "    return appended_data"
   ]
  },
  {
   "cell_type": "code",
   "execution_count": 5,
   "metadata": {},
   "outputs": [],
   "source": [
    "# move files to regular season folder or playoffs folder\n",
    "\n",
    "for f in 'data/player/clutch':\n",
    "    if '.csv' in f:\n",
    "        if 'Playoffs' in f:\n",
    "            os.rename('data/player/clutch/' + f + '.csv', 'data/player/clutch/playoffs/' + f + '.csv')\n",
    "        else:\n",
    "            os.rename('data/player/clutch/' + f + '.csv', 'data/player/clutch/regular_season/' + f + '.csv')\n"
   ]
  },
  {
   "cell_type": "code",
   "execution_count": 6,
   "metadata": {},
   "outputs": [],
   "source": [
    "# Get URLS\n",
    "\n",
    "traditional_clutch = 'https://www.nba.com/stats/players/clutch-traditional/?Season='    \n",
    "advanced_clutch = 'https://www.nba.com/stats/players/clutch-advanced/?Season='    \n",
    "misc_clutch = 'https://www.nba.com/stats/players/clutch-misc/?Season=' \n",
    "scoring_clutch = 'https://www.nba.com/stats/players/clutch-scoring/?Season='\n",
    "usage_clutch = 'https://www.nba.com/stats/players/clutch-usage/?Season='\n",
    "\n",
    "clutch_stats = [traditional_clutch, advanced_clutch, misc_clutch, scoring_clutch, usage_clutch]\n",
    "seasonz = ['2021-22', '2020-21', '2019-20', '2018-19', '2017-18', '2016-17', '2015-16', '2014-15', '2013-14']\n",
    "\n",
    "clutch_urls = []\n",
    "for s in seasonz:\n",
    "        for c in clutch_stats:\n",
    "                clutch_urls.append(c + s + '&SeasonType=Regular%20Season')\n",
    "\n",
    "clutch_urls_playoffs = []\n",
    "for s in seasonz:\n",
    "        for c in clutch_stats:\n",
    "                clutch_urls_playoffs.append(c + s + '&SeasonType=Playoffs')"
   ]
  },
  {
   "cell_type": "code",
   "execution_count": 7,
   "metadata": {},
   "outputs": [
    {
     "data": {
      "text/html": [
       "<div>\n",
       "<style scoped>\n",
       "    .dataframe tbody tr th:only-of-type {\n",
       "        vertical-align: middle;\n",
       "    }\n",
       "\n",
       "    .dataframe tbody tr th {\n",
       "        vertical-align: top;\n",
       "    }\n",
       "\n",
       "    .dataframe thead th {\n",
       "        text-align: right;\n",
       "    }\n",
       "</style>\n",
       "<table border=\"1\" class=\"dataframe\">\n",
       "  <thead>\n",
       "    <tr style=\"text-align: right;\">\n",
       "      <th></th>\n",
       "      <th>url</th>\n",
       "      <th>filename</th>\n",
       "    </tr>\n",
       "  </thead>\n",
       "  <tbody>\n",
       "    <tr>\n",
       "      <th>0</th>\n",
       "      <td>https://www.nba.com/stats/players/clutch-tradi...</td>\n",
       "      <td>clutch-traditional__Season_2021-22_Regular</td>\n",
       "    </tr>\n",
       "    <tr>\n",
       "      <th>1</th>\n",
       "      <td>https://www.nba.com/stats/players/clutch-advan...</td>\n",
       "      <td>clutch-advanced__Season_2021-22_Regular</td>\n",
       "    </tr>\n",
       "    <tr>\n",
       "      <th>2</th>\n",
       "      <td>https://www.nba.com/stats/players/clutch-misc/...</td>\n",
       "      <td>clutch-misc__Season_2021-22_Regular</td>\n",
       "    </tr>\n",
       "  </tbody>\n",
       "</table>\n",
       "</div>"
      ],
      "text/plain": [
       "                                                 url  \\\n",
       "0  https://www.nba.com/stats/players/clutch-tradi...   \n",
       "1  https://www.nba.com/stats/players/clutch-advan...   \n",
       "2  https://www.nba.com/stats/players/clutch-misc/...   \n",
       "\n",
       "                                     filename  \n",
       "0  clutch-traditional__Season_2021-22_Regular  \n",
       "1     clutch-advanced__Season_2021-22_Regular  \n",
       "2         clutch-misc__Season_2021-22_Regular  "
      ]
     },
     "execution_count": 7,
     "metadata": {},
     "output_type": "execute_result"
    }
   ],
   "source": [
    "# check urls against downloaded files\n",
    "\n",
    "clutch_urls = pd.DataFrame(clutch_urls, columns = ['url'])\n",
    "clutch_urls['filename'] = clutch_urls.apply(lambda row: clutch_url_to_filename(row['url']), axis = 1)\n",
    "# get rid of the .csv\n",
    "\n",
    "clutch_urls.head(3)"
   ]
  },
  {
   "cell_type": "code",
   "execution_count": 8,
   "metadata": {},
   "outputs": [],
   "source": [
    "files_in_folder = os.listdir('data/player/clutch/regular_season')\n",
    "\n",
    "# remove .csv\n",
    "files_in_folder = [f[:-4] for f in files_in_folder]"
   ]
  },
  {
   "cell_type": "code",
   "execution_count": 9,
   "metadata": {},
   "outputs": [
    {
     "data": {
      "text/html": [
       "<div>\n",
       "<style scoped>\n",
       "    .dataframe tbody tr th:only-of-type {\n",
       "        vertical-align: middle;\n",
       "    }\n",
       "\n",
       "    .dataframe tbody tr th {\n",
       "        vertical-align: top;\n",
       "    }\n",
       "\n",
       "    .dataframe thead th {\n",
       "        text-align: right;\n",
       "    }\n",
       "</style>\n",
       "<table border=\"1\" class=\"dataframe\">\n",
       "  <thead>\n",
       "    <tr style=\"text-align: right;\">\n",
       "      <th></th>\n",
       "      <th>url</th>\n",
       "      <th>filename</th>\n",
       "    </tr>\n",
       "  </thead>\n",
       "  <tbody>\n",
       "  </tbody>\n",
       "</table>\n",
       "</div>"
      ],
      "text/plain": [
       "Empty DataFrame\n",
       "Columns: [url, filename]\n",
       "Index: []"
      ]
     },
     "execution_count": 9,
     "metadata": {},
     "output_type": "execute_result"
    }
   ],
   "source": [
    "# get the files that are not in the clutch folder\n",
    "missing = clutch_urls[~clutch_urls['filename'].isin(files_in_folder)]\n",
    "missing"
   ]
  },
  {
   "cell_type": "code",
   "execution_count": 10,
   "metadata": {},
   "outputs": [
    {
     "name": "stdout",
     "output_type": "stream",
     "text": [
      "no missing files\n"
     ]
    }
   ],
   "source": [
    "if len(missing) > 0:\n",
    "    driver=webdriver.Chrome()\n",
    "    grab_player_clutch_stats(missing, 'data/player/clutch')\n",
    "else:\n",
    "    print('no missing files')\n"
   ]
  },
  {
   "cell_type": "code",
   "execution_count": 11,
   "metadata": {},
   "outputs": [],
   "source": [
    "# append clutch advanced data\n",
    "c_adv_reg = append_the_data('data/player/clutch/regular_season', 'c_adv_', 'advanced')\n",
    "c_adv_reg.to_csv('data/player/aggregates/clutch_advanced_regular_season.csv')\n",
    "\n",
    "c_adv_playoffs = append_the_data('data/player/clutch/playoffs', 'c_adv_', 'advanced')\n",
    "c_adv_playoffs.to_csv('data/player/aggregates/clutch_advanced_playoffs.csv')\n",
    "\n",
    "# merge these dataframes\n",
    "clutch_advanced = pd.concat([c_adv_reg, c_adv_playoffs])\n",
    "clutch_advanced.to_csv('data/player/aggregates/clutch_advanced_AllSeasons.csv')\n",
    "\n",
    "# append clutch traditional data\n",
    "c_trad_reg = append_the_data('data/player/clutch/regular_season', 'c_trad_', 'traditional')\n",
    "c_trad_reg.to_csv('data/player/aggregates/clutch_traditional_regular_season.csv')\n",
    "\n",
    "c_trad_playoffs = append_the_data('data/player/clutch/playoffs', 'c_trad_', 'traditional')\n",
    "c_trad_playoffs.to_csv('data/player/aggregates/clutch_traditional_playoffs.csv')\n",
    "\n",
    "# merge these dataframes\n",
    "clutch_traditional = pd.concat([c_trad_reg, c_trad_playoffs])\n",
    "clutch_traditional.to_csv('data/player/aggregates/clutch_traditional_AllSeasons.csv')\n",
    "\n",
    "#append clutch misc data\n",
    "c_misc_reg = append_the_data('data/player/clutch/regular_season', 'c_misc_', 'misc')\n",
    "c_misc_reg.to_csv('data/player/aggregates/clutch_misc_regular_season.csv')\n",
    "\n",
    "c_misc_playoffs = append_the_data('data/player/clutch/playoffs', 'c_misc_', 'misc')\n",
    "c_misc_playoffs.to_csv('data/player/aggregates/clutch_misc_playoffs.csv')\n",
    "\n",
    "# merge these dataframes\n",
    "clutch_misc = pd.concat([c_misc_reg, c_misc_playoffs])\n",
    "clutch_misc.to_csv('data/player/aggregates/clutch_misc_AllSeasons.csv')\n",
    "\n",
    "# append clutch scoring data\n",
    "\n",
    "c_scoring_reg = append_the_data('data/player/clutch/regular_season', 'c_scoring_', 'scoring')\n",
    "c_scoring_reg.to_csv('data/player/aggregates/clutch_scoring_regular_season.csv')\n",
    "\n",
    "c_scoring_playoffs = append_the_data('data/player/clutch/playoffs', 'c_scoring_', 'scoring')\n",
    "c_scoring_playoffs.to_csv('data/player/aggregates/clutch_scoring_playoffs.csv')\n",
    "\n",
    "# merge these dataframes\n",
    "clutch_scoring = pd.concat([c_scoring_reg, c_scoring_playoffs])\n",
    "clutch_scoring.to_csv('data/player/aggregates/clutch_scoring_AllSeasons.csv')\n",
    "\n",
    "# append clutch usage data\n",
    "c_usage_reg = append_the_data('data/player/clutch/regular_season', 'c_usage_', 'usage')\n",
    "c_usage_reg.to_csv('data/player/aggregates/clutch_usage_regular_season.csv')\n",
    "\n",
    "c_usage_playoffs = append_the_data('data/player/clutch/playoffs', 'c_usage_', 'usage')\n",
    "c_usage_playoffs.to_csv('data/player/aggregates/clutch_usage_playoffs.csv')\n",
    "\n",
    "# merge these dataframes\n",
    "clutch_usage = pd.concat([c_usage_reg, c_usage_playoffs])\n",
    "clutch_usage.to_csv('data/player/aggregates/clutch_usage_AllSeasons.csv')\n"
   ]
  },
  {
   "cell_type": "code",
   "execution_count": 12,
   "metadata": {},
   "outputs": [],
   "source": [
    "# append all clutch data\n",
    "adv = pd.read_csv('data/player/aggregates/clutch_advanced_AllSeasons.csv')\n",
    "trad = pd.read_csv('data/player/aggregates/clutch_traditional_AllSeasons.csv')\n",
    "misc = pd.read_csv('data/player/aggregates/clutch_misc_AllSeasons.csv')\n",
    "scoring = pd.read_csv('data/player/aggregates/clutch_scoring_AllSeasons.csv')\n",
    "usage = pd.read_csv('data/player/aggregates/clutch_usage_AllSeasons.csv')"
   ]
  },
  {
   "cell_type": "code",
   "execution_count": 13,
   "metadata": {},
   "outputs": [
    {
     "name": "stdout",
     "output_type": "stream",
     "text": [
      " Advanced is (5294, 27), Traditional is (5156, 34), Misc is (5294, 24), Scoring is (5294, 27), Usage is (5294, 30)\n"
     ]
    }
   ],
   "source": [
    "print(f' Advanced is {adv.shape}, Traditional is {trad.shape}, Misc is {misc.shape}, Scoring is {scoring.shape}, Usage is {usage.shape}')"
   ]
  },
  {
   "cell_type": "code",
   "execution_count": 14,
   "metadata": {},
   "outputs": [],
   "source": [
    "all_clutch = pd.merge(adv, trad.drop_duplicates(subset = ['c_trad_player', 'c_trad_season', 'c_trad_season_type']), \n",
    "                                                left_on= ['c_adv_player', 'c_adv_season', 'c_adv_season_type'], \n",
    "                                                right_on= ['c_trad_player', 'c_trad_season', 'c_trad_season_type'], \n",
    "                                                how= 'left')"
   ]
  },
  {
   "cell_type": "code",
   "execution_count": 15,
   "metadata": {},
   "outputs": [
    {
     "name": "stderr",
     "output_type": "stream",
     "text": [
      "C:\\Users\\Travis\\AppData\\Local\\Temp\\ipykernel_63380\\4123100872.py:5: FutureWarning: Passing 'suffixes' which cause duplicate columns {'Unnamed: 0_x'} in the result is deprecated and will raise a MergeError in a future version.\n",
      "  all_clutch = pd.merge(all_clutch, scoring.drop_duplicates(subset = ['c_scoring_player', 'c_scoring_season', 'c_scoring_season_type']),\n"
     ]
    }
   ],
   "source": [
    "all_clutch = pd.merge(all_clutch, misc.drop_duplicates(subset = ['c_misc_player', 'c_misc_season', 'c_misc_season_type']), \n",
    "                                                left_on= ['c_adv_player', 'c_adv_season', 'c_adv_season_type'], \n",
    "                                                right_on= ['c_misc_player', 'c_misc_season', 'c_misc_season_type'], \n",
    "                                                how= 'left')\n",
    "all_clutch = pd.merge(all_clutch, scoring.drop_duplicates(subset = ['c_scoring_player', 'c_scoring_season', 'c_scoring_season_type']), \n",
    "                                                left_on= ['c_adv_player', 'c_adv_season', 'c_adv_season_type'], \n",
    "                                                right_on= ['c_scoring_player', 'c_scoring_season', 'c_scoring_season_type'], \n",
    "                                                how= 'left')\n",
    "all_clutch = pd.merge(all_clutch, usage.drop_duplicates(subset = ['c_usage_player', 'c_usage_season', 'c_usage_season_type']), \n",
    "                                                left_on= ['c_adv_player', 'c_adv_season', 'c_adv_season_type'], \n",
    "                                                right_on= ['c_usage_player', 'c_usage_season', 'c_usage_season_type'], \n",
    "                                                how= 'left')\n",
    "all_clutch.to_csv('data/player/aggregates/ALL_Clutch.csv')"
   ]
  }
 ],
 "metadata": {
  "kernelspec": {
   "display_name": "Trav310",
   "language": "python",
   "name": "python3"
  },
  "language_info": {
   "codemirror_mode": {
    "name": "ipython",
    "version": 3
   },
   "file_extension": ".py",
   "mimetype": "text/x-python",
   "name": "python",
   "nbconvert_exporter": "python",
   "pygments_lexer": "ipython3",
   "version": "3.10.8 | packaged by conda-forge | (main, Nov  4 2022, 13:42:51) [MSC v.1916 64 bit (AMD64)]"
  },
  "orig_nbformat": 4,
  "vscode": {
   "interpreter": {
    "hash": "f69e36f0e9b2c8d9f319b417484f14b77c91d7bef950ad448542405eb1e0e594"
   }
  }
 },
 "nbformat": 4,
 "nbformat_minor": 2
}
