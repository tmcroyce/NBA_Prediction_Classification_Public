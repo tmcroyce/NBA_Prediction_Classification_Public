{
 "cells": [
  {
   "attachments": {},
   "cell_type": "markdown",
   "metadata": {},
   "source": [
    "# Scrape General Player Stats"
   ]
  },
  {
   "cell_type": "code",
   "execution_count": 1,
   "metadata": {},
   "outputs": [],
   "source": [
    "import pandas as pd\n",
    "import numpy as np\n",
    "import matplotlib.pyplot as plt\n",
    "%matplotlib inline\n",
    "import matplotlib.ticker as mtick\n",
    "import sqlite3\n",
    "import seaborn as sns\n",
    "from matplotlib.offsetbox import OffsetImage, AnnotationBbox\n",
    "from selenium import webdriver\n",
    "from selenium.webdriver.common.keys import Keys\n",
    "from bs4 import BeautifulSoup\n",
    "from selenium.webdriver.common.by import By\n",
    "from selenium.webdriver.support.ui import WebDriverWait\n",
    "from selenium.webdriver.support import expected_conditions as EC\n",
    "import time\n",
    "import requests   \n",
    "import shutil      \n",
    "import datetime\n",
    "from scipy.stats import norm\n",
    "import os\n",
    "import winsound\n",
    "\n",
    "home_folder = 'C:\\\\Users\\\\Travis\\\\OneDrive\\\\Data Science\\\\Personal_Projects\\\\Sports\\\\NBA_Prediction_V3_1'\n",
    "os.chdir(home_folder)"
   ]
  },
  {
   "attachments": {},
   "cell_type": "markdown",
   "metadata": {},
   "source": [
    "## Functions"
   ]
  },
  {
   "cell_type": "code",
   "execution_count": 2,
   "metadata": {},
   "outputs": [],
   "source": [
    "def replace_name_values(filename):\n",
    "        # replace values with dashes for compatibility\n",
    "    filename = filename.replace('%','_')\n",
    "    filename = filename.replace('=','_')\n",
    "    filename = filename.replace('?','_')\n",
    "    filename = filename.replace('&','_')\n",
    "    filename = filename.replace('20Season_','')\n",
    "    filename = filename.replace('20Season','')\n",
    "    filename = filename.replace('SeasonType_','')\n",
    "    return filename"
   ]
  },
  {
   "cell_type": "code",
   "execution_count": 3,
   "metadata": {},
   "outputs": [],
   "source": [
    "def grab_player_data(url_list, file_folder):    \n",
    "        \n",
    "        # Scrape Season-Level player data from the url_list\n",
    "\n",
    "        i = 0\n",
    "        for u in url_list:\n",
    "                \n",
    "                driver.get(u)\n",
    "                time.sleep(2)\n",
    "\n",
    "                # if the page does not load, go to the next in the list\n",
    "                try:\n",
    "                        xpath = '//*[@id=\"__next\"]/div[2]/div[2]/div[3]/section[2]/div/div[2]/div[2]/div[1]/div[3]/div/label/div/select/option[1]'\n",
    "                        elem = WebDriverWait(driver, 30).until(EC.presence_of_element_located((By.XPATH, xpath)))\n",
    "                except:\n",
    "                        print(f'{u} did not load. Moving to next url.')\n",
    "                        continue\n",
    "\n",
    "                # click \"all pages\"\n",
    "                xpath_all = '//*[@id=\"__next\"]/div[2]/div[2]/div[3]/section[2]/div/div[2]/div[2]/div[1]/div[3]/div/label/div/select/option[1]' \n",
    "                elem = WebDriverWait(driver, 30).until(EC.presence_of_element_located((By.XPATH, xpath_all)))\n",
    "                \n",
    "                driver.find_element(by=By.XPATH, value=xpath_all).click()\n",
    "                src = driver.page_source\n",
    "                parser = BeautifulSoup(src, \"lxml\")\n",
    "                table = parser.find(\"table\", attrs = {\"class\":\"Crom_table__p1iZz\"})\n",
    "                headers = table.findAll('th')\n",
    "                headerlist = [h.text.strip() for h in headers[0:]] \n",
    "                row_names = table.findAll('a')                             # find rows\n",
    "                row_list = [b.text.strip() for b in row_names[0:]] \n",
    "                rows = table.findAll('tr')[0:]\n",
    "                player_stats = [[td.getText().strip() for td in rows[i].findAll('td')[0:]] for i in range(len(rows))]\n",
    "                tot_cols = len(player_stats[1])                           #set the length to ignore hidden columns\n",
    "                headerlist = headerlist[:tot_cols]   \n",
    "                stats = pd.DataFrame(player_stats, columns = headerlist)\n",
    "\n",
    "                # assign filename\n",
    "                filename = file_folder + str(u[34:]).replace('/', '_') + '.csv'\n",
    "                filename = replace_name_values(filename)\n",
    "                pd.DataFrame.to_csv(stats, filename)\n",
    "                i += 1\n",
    "                lu = len(url_list)\n",
    "                # close driver\n",
    "                print(f'{filename} Completed Successfully! {i} / {lu} Complete!')\n",
    "\n",
    "        winsound.Beep(523, 500)"
   ]
  },
  {
   "cell_type": "code",
   "execution_count": 4,
   "metadata": {},
   "outputs": [],
   "source": [
    "def append_the_data(folder, data_prefix, filename_selector):\n",
    "    \n",
    "    # Appending data together via folder and/or file name\n",
    "\n",
    "    path = folder\n",
    "    p = os.listdir(path)\n",
    "    pf = pd.DataFrame(p)\n",
    "\n",
    "\n",
    "    # filter for files that contain the filename_selector\n",
    "    pf_reg = pf.loc[pf[0].astype(str).str.contains(filename_selector)] \n",
    "\n",
    "    appended_data = []\n",
    "    for file in pf_reg[0]:\n",
    "        data = pd.read_csv(folder + '/' + file)\n",
    "        # if \"Season\" a column, drop it\n",
    "        if 'Season' in data.columns:\n",
    "            data = data.drop(columns = ['Season'])\n",
    "        \n",
    "        data['season'] = file[(file.find('20')):(file.find('20'))+4]\n",
    "        data['season_type'] = np.where('Regular' in file, 'Regular', 'Playoffs')\n",
    "        # add prefix to columns\n",
    "        data = data.add_prefix(data_prefix)\n",
    "        data.columns = data.columns.str.lower()\n",
    "        appended_data.append(data)\n",
    "    \n",
    "    appended_data = pd.concat(appended_data)\n",
    "    return appended_data"
   ]
  },
  {
   "cell_type": "code",
   "execution_count": 5,
   "metadata": {},
   "outputs": [],
   "source": [
    "# If there are files in the general folder, move them to playoffs or reg_season\n",
    "gen_files = os.listdir('data/player/general')\n",
    "gen_files = [f for f in gen_files if f.endswith('.csv')]\n",
    "if len(gen_files) > 0:\n",
    "    for f in gen_files:\n",
    "        if 'Playoffs' in f:\n",
    "            os.rename('data/player/general/' + f, 'data/player/general/playoffs/' + f)\n",
    "        else:\n",
    "            os.rename('data/player/general/' + f, 'data/player/general/regular_season/' + f)"
   ]
  },
  {
   "attachments": {},
   "cell_type": "markdown",
   "metadata": {},
   "source": [
    "## Urls"
   ]
  },
  {
   "cell_type": "code",
   "execution_count": 6,
   "metadata": {},
   "outputs": [],
   "source": [
    "# This gets a list of all the urls for the player general stats for PREVIOUS YEARS\n",
    "\n",
    "years = ['2021-22', '2020-21', '2019-20', '2018-19', '2017-18', '2016-17', \n",
    "            '2015-16','2014-15', '2013-14', '2012-13', '2011-12']\n",
    "stat_types = ['traditional', 'advanced', 'misc', 'scoring', 'usage','opponent', 'defense']\n",
    "season_types = ['Playoffs', 'Regular%20Season']\n",
    "\n",
    "player_general_urls = []\n",
    "\n",
    "for year in years:\n",
    "    for stattype in stat_types:\n",
    "        for s_types in season_types:\n",
    "            url = 'https://www.nba.com/stats/players/'+ stattype +'?SeasonType=' + s_types + '&Season=' + year \n",
    "            player_general_urls.append(url)"
   ]
  },
  {
   "cell_type": "code",
   "execution_count": 7,
   "metadata": {},
   "outputs": [],
   "source": [
    "# add the 2022-23 season to the list of urls\n",
    "\n",
    "year = '2022-23'\n",
    "season_type = 'Regular%20Season'\n",
    "for stattype in stat_types:\n",
    "    url = 'https://www.nba.com/stats/players/'+ stattype +'?SeasonType=' + season_type + '&Season=' + year \n",
    "    player_general_urls.append(url)\n"
   ]
  },
  {
   "cell_type": "code",
   "execution_count": 8,
   "metadata": {},
   "outputs": [],
   "source": [
    "# translate urls to naming convention\n",
    "def trans_urls(url):\n",
    "    new_url = str(url)[34:].replace('/', '_')\n",
    "    filename = replace_name_values(new_url)\n",
    "    return filename"
   ]
  },
  {
   "cell_type": "code",
   "execution_count": 9,
   "metadata": {},
   "outputs": [
    {
     "data": {
      "text/html": [
       "<div>\n",
       "<style scoped>\n",
       "    .dataframe tbody tr th:only-of-type {\n",
       "        vertical-align: middle;\n",
       "    }\n",
       "\n",
       "    .dataframe tbody tr th {\n",
       "        vertical-align: top;\n",
       "    }\n",
       "\n",
       "    .dataframe thead th {\n",
       "        text-align: right;\n",
       "    }\n",
       "</style>\n",
       "<table border=\"1\" class=\"dataframe\">\n",
       "  <thead>\n",
       "    <tr style=\"text-align: right;\">\n",
       "      <th></th>\n",
       "      <th>url</th>\n",
       "      <th>filename</th>\n",
       "    </tr>\n",
       "  </thead>\n",
       "  <tbody>\n",
       "  </tbody>\n",
       "</table>\n",
       "</div>"
      ],
      "text/plain": [
       "Empty DataFrame\n",
       "Columns: [url, filename]\n",
       "Index: []"
      ]
     },
     "execution_count": 9,
     "metadata": {},
     "output_type": "execute_result"
    }
   ],
   "source": [
    "# ID Missing Files\n",
    "\n",
    "pg_url = pd.DataFrame(player_general_urls, columns = ['url'])\n",
    "\n",
    "# apply lambda function to get filename\n",
    "pg_url['filename'] = pg_url.apply(lambda row: trans_urls(row['url']), axis=1)\n",
    "\n",
    "# Get files in folder\n",
    "folder1 = os.listdir('data/player/general/regular_season/')\n",
    "folder2 = os.listdir('data/player/general/playoffs/')\n",
    "folder = folder1 + folder2\n",
    "folder = [x.replace('.csv', '') for x in folder]\n",
    "\n",
    "# get list of files that need to be downloaded, the files that are not in the folder\n",
    "to_download = pg_url[~pg_url['filename'].isin(folder)]\n",
    "to_download"
   ]
  },
  {
   "cell_type": "code",
   "execution_count": 10,
   "metadata": {},
   "outputs": [],
   "source": [
    "driver = webdriver.Chrome()"
   ]
  },
  {
   "cell_type": "code",
   "execution_count": 11,
   "metadata": {},
   "outputs": [
    {
     "name": "stdout",
     "output_type": "stream",
     "text": [
      "No files to download\n"
     ]
    }
   ],
   "source": [
    "# if there are files to download, download them\n",
    "\n",
    "# turn url to list\n",
    "to_download_list = to_download['url'].tolist()\n",
    "\n",
    "if len(to_download_list) > 0:\n",
    "    grab_player_data(to_download_list, 'data/player/general/')\n",
    "else:\n",
    "    print('No files to download')"
   ]
  },
  {
   "attachments": {},
   "cell_type": "markdown",
   "metadata": {},
   "source": [
    "### Add This Year"
   ]
  },
  {
   "cell_type": "code",
   "execution_count": 12,
   "metadata": {},
   "outputs": [],
   "source": [
    "# add the 2022-23 season to the list of urls\n",
    "this_year = []\n",
    "\n",
    "year = '2022-23'\n",
    "season_type = 'Regular%20Season'\n",
    "for stattype in stat_types:\n",
    "    url = 'https://www.nba.com/stats/players/'+ stattype +'?SeasonType=' + season_type + '&Season=' + year \n",
    "    this_year.append(url)\n"
   ]
  },
  {
   "cell_type": "code",
   "execution_count": 13,
   "metadata": {},
   "outputs": [
    {
     "name": "stdout",
     "output_type": "stream",
     "text": [
      "data/player/general/traditional_Regular_Season_2022-23.csv Completed Successfully! 1 / 7 Complete!\n",
      "data/player/general/advanced_Regular_Season_2022-23.csv Completed Successfully! 2 / 7 Complete!\n",
      "data/player/general/misc_Regular_Season_2022-23.csv Completed Successfully! 3 / 7 Complete!\n",
      "data/player/general/scoring_Regular_Season_2022-23.csv Completed Successfully! 4 / 7 Complete!\n",
      "data/player/general/usage_Regular_Season_2022-23.csv Completed Successfully! 5 / 7 Complete!\n",
      "data/player/general/opponent_Regular_Season_2022-23.csv Completed Successfully! 6 / 7 Complete!\n",
      "data/player/general/defense_Regular_Season_2022-23.csv Completed Successfully! 7 / 7 Complete!\n"
     ]
    }
   ],
   "source": [
    "driver = webdriver.Chrome()\n",
    "grab_player_data(this_year, 'data/player/general/')"
   ]
  },
  {
   "attachments": {},
   "cell_type": "markdown",
   "metadata": {},
   "source": [
    "### Append Data"
   ]
  },
  {
   "cell_type": "code",
   "execution_count": 14,
   "metadata": {},
   "outputs": [
    {
     "name": "stdout",
     "output_type": "stream",
     "text": [
      " data shape: (6734, 33)\n"
     ]
    },
    {
     "data": {
      "text/html": [
       "<div>\n",
       "<style scoped>\n",
       "    .dataframe tbody tr th:only-of-type {\n",
       "        vertical-align: middle;\n",
       "    }\n",
       "\n",
       "    .dataframe tbody tr th {\n",
       "        vertical-align: top;\n",
       "    }\n",
       "\n",
       "    .dataframe thead th {\n",
       "        text-align: right;\n",
       "    }\n",
       "</style>\n",
       "<table border=\"1\" class=\"dataframe\">\n",
       "  <thead>\n",
       "    <tr style=\"text-align: right;\">\n",
       "      <th></th>\n",
       "      <th>trad_unnamed: 0</th>\n",
       "      <th>trad_unnamed: 1</th>\n",
       "      <th>trad_player</th>\n",
       "      <th>trad_team</th>\n",
       "      <th>trad_age</th>\n",
       "      <th>trad_gp</th>\n",
       "      <th>trad_w</th>\n",
       "      <th>trad_l</th>\n",
       "      <th>trad_min</th>\n",
       "      <th>trad_pts</th>\n",
       "      <th>...</th>\n",
       "      <th>trad_tov</th>\n",
       "      <th>trad_stl</th>\n",
       "      <th>trad_blk</th>\n",
       "      <th>trad_pf</th>\n",
       "      <th>trad_fp</th>\n",
       "      <th>trad_dd2</th>\n",
       "      <th>trad_td3</th>\n",
       "      <th>trad_+/-</th>\n",
       "      <th>trad_season</th>\n",
       "      <th>trad_season_type</th>\n",
       "    </tr>\n",
       "  </thead>\n",
       "  <tbody>\n",
       "    <tr>\n",
       "      <th>0</th>\n",
       "      <td>0</td>\n",
       "      <td>NaN</td>\n",
       "      <td>NaN</td>\n",
       "      <td>NaN</td>\n",
       "      <td>NaN</td>\n",
       "      <td>NaN</td>\n",
       "      <td>NaN</td>\n",
       "      <td>NaN</td>\n",
       "      <td>NaN</td>\n",
       "      <td>NaN</td>\n",
       "      <td>...</td>\n",
       "      <td>NaN</td>\n",
       "      <td>NaN</td>\n",
       "      <td>NaN</td>\n",
       "      <td>NaN</td>\n",
       "      <td>NaN</td>\n",
       "      <td>NaN</td>\n",
       "      <td>NaN</td>\n",
       "      <td>NaN</td>\n",
       "      <td>2011</td>\n",
       "      <td>Regular</td>\n",
       "    </tr>\n",
       "    <tr>\n",
       "      <th>1</th>\n",
       "      <td>1</td>\n",
       "      <td>1.0</td>\n",
       "      <td>Kevin Durant</td>\n",
       "      <td>OKC</td>\n",
       "      <td>23.0</td>\n",
       "      <td>66.0</td>\n",
       "      <td>47.0</td>\n",
       "      <td>19.0</td>\n",
       "      <td>38.6</td>\n",
       "      <td>28.0</td>\n",
       "      <td>...</td>\n",
       "      <td>3.8</td>\n",
       "      <td>1.3</td>\n",
       "      <td>1.2</td>\n",
       "      <td>2.0</td>\n",
       "      <td>46.6</td>\n",
       "      <td>18.0</td>\n",
       "      <td>0.0</td>\n",
       "      <td>5.6</td>\n",
       "      <td>2011</td>\n",
       "      <td>Regular</td>\n",
       "    </tr>\n",
       "    <tr>\n",
       "      <th>2</th>\n",
       "      <td>2</td>\n",
       "      <td>2.0</td>\n",
       "      <td>Kobe Bryant</td>\n",
       "      <td>LAL</td>\n",
       "      <td>33.0</td>\n",
       "      <td>58.0</td>\n",
       "      <td>36.0</td>\n",
       "      <td>22.0</td>\n",
       "      <td>38.5</td>\n",
       "      <td>27.9</td>\n",
       "      <td>...</td>\n",
       "      <td>3.5</td>\n",
       "      <td>1.2</td>\n",
       "      <td>0.3</td>\n",
       "      <td>1.8</td>\n",
       "      <td>42.1</td>\n",
       "      <td>3.0</td>\n",
       "      <td>0.0</td>\n",
       "      <td>2.4</td>\n",
       "      <td>2011</td>\n",
       "      <td>Regular</td>\n",
       "    </tr>\n",
       "  </tbody>\n",
       "</table>\n",
       "<p>3 rows × 33 columns</p>\n",
       "</div>"
      ],
      "text/plain": [
       "   trad_unnamed: 0  trad_unnamed: 1   trad_player trad_team  trad_age  \\\n",
       "0                0              NaN           NaN       NaN       NaN   \n",
       "1                1              1.0  Kevin Durant       OKC      23.0   \n",
       "2                2              2.0   Kobe Bryant       LAL      33.0   \n",
       "\n",
       "   trad_gp  trad_w  trad_l  trad_min  trad_pts  ...  trad_tov  trad_stl  \\\n",
       "0      NaN     NaN     NaN       NaN       NaN  ...       NaN       NaN   \n",
       "1     66.0    47.0    19.0      38.6      28.0  ...       3.8       1.3   \n",
       "2     58.0    36.0    22.0      38.5      27.9  ...       3.5       1.2   \n",
       "\n",
       "   trad_blk  trad_pf  trad_fp  trad_dd2  trad_td3  trad_+/-  trad_season  \\\n",
       "0       NaN      NaN      NaN       NaN       NaN       NaN         2011   \n",
       "1       1.2      2.0     46.6      18.0       0.0       5.6         2011   \n",
       "2       0.3      1.8     42.1       3.0       0.0       2.4         2011   \n",
       "\n",
       "   trad_season_type  \n",
       "0           Regular  \n",
       "1           Regular  \n",
       "2           Regular  \n",
       "\n",
       "[3 rows x 33 columns]"
      ]
     },
     "execution_count": 14,
     "metadata": {},
     "output_type": "execute_result"
    }
   ],
   "source": [
    "trad_data = append_the_data('data/player/general/regular_season/', 'trad_', 'traditional')\n",
    "print(f' data shape: {trad_data.shape}')\n",
    "trad_data.head(3)"
   ]
  },
  {
   "cell_type": "code",
   "execution_count": 15,
   "metadata": {},
   "outputs": [],
   "source": [
    "trad_data.to_csv('data/player/aggregates/player_general_traditional_seasonview.csv')"
   ]
  },
  {
   "cell_type": "code",
   "execution_count": 16,
   "metadata": {},
   "outputs": [
    {
     "name": "stdout",
     "output_type": "stream",
     "text": [
      " data shape: (6128, 27)\n"
     ]
    }
   ],
   "source": [
    "adv_data = append_the_data('data/player/general/regular_season/', 'adv_', 'advanced')\n",
    "print(f' data shape: {adv_data.shape}')"
   ]
  },
  {
   "cell_type": "code",
   "execution_count": 17,
   "metadata": {},
   "outputs": [],
   "source": [
    "adv_data.to_csv('data/player/aggregates/player_general_advanced_seasonview.csv')"
   ]
  },
  {
   "cell_type": "markdown",
   "metadata": {},
   "source": [
    "#### Defense stats"
   ]
  },
  {
   "cell_type": "code",
   "execution_count": 18,
   "metadata": {},
   "outputs": [],
   "source": [
    "def_data = append_the_data('data/player/general/regular_season/', 'def_', 'defense')"
   ]
  },
  {
   "cell_type": "code",
   "execution_count": 19,
   "metadata": {},
   "outputs": [],
   "source": [
    "def_data.to_csv('data/player/aggregates/player_general_defense_aggregates.csv')"
   ]
  },
  {
   "cell_type": "markdown",
   "metadata": {},
   "source": [
    "#### Scoring Stats"
   ]
  },
  {
   "cell_type": "code",
   "execution_count": 20,
   "metadata": {
    "vscode": {
     "languageId": "markdown"
    }
   },
   "outputs": [],
   "source": [
    "scoring_data = append_the_data('data/player/general/regular_season/', 'scor_', 'scoring')"
   ]
  },
  {
   "cell_type": "code",
   "execution_count": 21,
   "metadata": {},
   "outputs": [],
   "source": [
    "scoring_data.to_csv('data/player/aggregates/player_general_scoring_aggregates.csv')"
   ]
  },
  {
   "cell_type": "markdown",
   "metadata": {},
   "source": [
    "#### Usage Stats"
   ]
  },
  {
   "cell_type": "code",
   "execution_count": 22,
   "metadata": {},
   "outputs": [],
   "source": [
    "usage_data = append_the_data('data/player/general/regular_season/', 'usage_', 'usage')\n",
    "usage_data.to_csv('data/player/aggregates/player_general_usage_aggregates.csv')"
   ]
  },
  {
   "cell_type": "markdown",
   "metadata": {},
   "source": [
    "#### Opponent Stats"
   ]
  },
  {
   "cell_type": "code",
   "execution_count": 23,
   "metadata": {},
   "outputs": [],
   "source": [
    "opponent_data = append_the_data('data/player/general/regular_season/', 'opp_', 'opponent')\n",
    "opponent_data.to_csv('data/player/aggregates/player_general_opponent_aggregates.csv')"
   ]
  },
  {
   "cell_type": "markdown",
   "metadata": {},
   "source": [
    "#### Misc stats"
   ]
  },
  {
   "cell_type": "code",
   "execution_count": 24,
   "metadata": {},
   "outputs": [],
   "source": [
    "misc_data = append_the_data('data/player/general/regular_season/', 'misc_', 'misc')\n",
    "misc_data.to_csv('data/player/aggregates/player_general_misc_aggregates.csv')"
   ]
  },
  {
   "cell_type": "markdown",
   "metadata": {},
   "source": [
    "### Merge All General Stats in one File"
   ]
  },
  {
   "cell_type": "code",
   "execution_count": 25,
   "metadata": {},
   "outputs": [
    {
     "data": {
      "text/html": [
       "<div>\n",
       "<style scoped>\n",
       "    .dataframe tbody tr th:only-of-type {\n",
       "        vertical-align: middle;\n",
       "    }\n",
       "\n",
       "    .dataframe tbody tr th {\n",
       "        vertical-align: top;\n",
       "    }\n",
       "\n",
       "    .dataframe thead th {\n",
       "        text-align: right;\n",
       "    }\n",
       "</style>\n",
       "<table border=\"1\" class=\"dataframe\">\n",
       "  <thead>\n",
       "    <tr style=\"text-align: right;\">\n",
       "      <th></th>\n",
       "      <th>trad_unnamed: 0</th>\n",
       "      <th>trad_unnamed: 1</th>\n",
       "      <th>trad_player</th>\n",
       "      <th>trad_team</th>\n",
       "      <th>trad_age</th>\n",
       "      <th>trad_gp</th>\n",
       "      <th>trad_w</th>\n",
       "      <th>trad_l</th>\n",
       "      <th>trad_min</th>\n",
       "      <th>trad_pts</th>\n",
       "      <th>...</th>\n",
       "      <th>trad_tov</th>\n",
       "      <th>trad_stl</th>\n",
       "      <th>trad_blk</th>\n",
       "      <th>trad_pf</th>\n",
       "      <th>trad_fp</th>\n",
       "      <th>trad_dd2</th>\n",
       "      <th>trad_td3</th>\n",
       "      <th>trad_+/-</th>\n",
       "      <th>trad_season</th>\n",
       "      <th>trad_season_type</th>\n",
       "    </tr>\n",
       "  </thead>\n",
       "  <tbody>\n",
       "    <tr>\n",
       "      <th>0</th>\n",
       "      <td>0</td>\n",
       "      <td>NaN</td>\n",
       "      <td>NaN</td>\n",
       "      <td>NaN</td>\n",
       "      <td>NaN</td>\n",
       "      <td>NaN</td>\n",
       "      <td>NaN</td>\n",
       "      <td>NaN</td>\n",
       "      <td>NaN</td>\n",
       "      <td>NaN</td>\n",
       "      <td>...</td>\n",
       "      <td>NaN</td>\n",
       "      <td>NaN</td>\n",
       "      <td>NaN</td>\n",
       "      <td>NaN</td>\n",
       "      <td>NaN</td>\n",
       "      <td>NaN</td>\n",
       "      <td>NaN</td>\n",
       "      <td>NaN</td>\n",
       "      <td>2011</td>\n",
       "      <td>Regular</td>\n",
       "    </tr>\n",
       "    <tr>\n",
       "      <th>1</th>\n",
       "      <td>1</td>\n",
       "      <td>1.0</td>\n",
       "      <td>Kevin Durant</td>\n",
       "      <td>OKC</td>\n",
       "      <td>23.0</td>\n",
       "      <td>66.0</td>\n",
       "      <td>47.0</td>\n",
       "      <td>19.0</td>\n",
       "      <td>38.6</td>\n",
       "      <td>28.0</td>\n",
       "      <td>...</td>\n",
       "      <td>3.8</td>\n",
       "      <td>1.3</td>\n",
       "      <td>1.2</td>\n",
       "      <td>2.0</td>\n",
       "      <td>46.6</td>\n",
       "      <td>18.0</td>\n",
       "      <td>0.0</td>\n",
       "      <td>5.6</td>\n",
       "      <td>2011</td>\n",
       "      <td>Regular</td>\n",
       "    </tr>\n",
       "    <tr>\n",
       "      <th>2</th>\n",
       "      <td>2</td>\n",
       "      <td>2.0</td>\n",
       "      <td>Kobe Bryant</td>\n",
       "      <td>LAL</td>\n",
       "      <td>33.0</td>\n",
       "      <td>58.0</td>\n",
       "      <td>36.0</td>\n",
       "      <td>22.0</td>\n",
       "      <td>38.5</td>\n",
       "      <td>27.9</td>\n",
       "      <td>...</td>\n",
       "      <td>3.5</td>\n",
       "      <td>1.2</td>\n",
       "      <td>0.3</td>\n",
       "      <td>1.8</td>\n",
       "      <td>42.1</td>\n",
       "      <td>3.0</td>\n",
       "      <td>0.0</td>\n",
       "      <td>2.4</td>\n",
       "      <td>2011</td>\n",
       "      <td>Regular</td>\n",
       "    </tr>\n",
       "    <tr>\n",
       "      <th>3</th>\n",
       "      <td>3</td>\n",
       "      <td>3.0</td>\n",
       "      <td>LeBron James</td>\n",
       "      <td>MIA</td>\n",
       "      <td>27.0</td>\n",
       "      <td>62.0</td>\n",
       "      <td>45.0</td>\n",
       "      <td>17.0</td>\n",
       "      <td>37.5</td>\n",
       "      <td>27.1</td>\n",
       "      <td>...</td>\n",
       "      <td>3.4</td>\n",
       "      <td>1.9</td>\n",
       "      <td>0.8</td>\n",
       "      <td>1.5</td>\n",
       "      <td>50.6</td>\n",
       "      <td>23.0</td>\n",
       "      <td>0.0</td>\n",
       "      <td>7.6</td>\n",
       "      <td>2011</td>\n",
       "      <td>Regular</td>\n",
       "    </tr>\n",
       "    <tr>\n",
       "      <th>4</th>\n",
       "      <td>4</td>\n",
       "      <td>4.0</td>\n",
       "      <td>Kevin Love</td>\n",
       "      <td>MIN</td>\n",
       "      <td>23.0</td>\n",
       "      <td>55.0</td>\n",
       "      <td>24.0</td>\n",
       "      <td>31.0</td>\n",
       "      <td>39.0</td>\n",
       "      <td>26.0</td>\n",
       "      <td>...</td>\n",
       "      <td>2.3</td>\n",
       "      <td>0.9</td>\n",
       "      <td>0.5</td>\n",
       "      <td>2.8</td>\n",
       "      <td>46.8</td>\n",
       "      <td>48.0</td>\n",
       "      <td>0.0</td>\n",
       "      <td>0.5</td>\n",
       "      <td>2011</td>\n",
       "      <td>Regular</td>\n",
       "    </tr>\n",
       "    <tr>\n",
       "      <th>...</th>\n",
       "      <td>...</td>\n",
       "      <td>...</td>\n",
       "      <td>...</td>\n",
       "      <td>...</td>\n",
       "      <td>...</td>\n",
       "      <td>...</td>\n",
       "      <td>...</td>\n",
       "      <td>...</td>\n",
       "      <td>...</td>\n",
       "      <td>...</td>\n",
       "      <td>...</td>\n",
       "      <td>...</td>\n",
       "      <td>...</td>\n",
       "      <td>...</td>\n",
       "      <td>...</td>\n",
       "      <td>...</td>\n",
       "      <td>...</td>\n",
       "      <td>...</td>\n",
       "      <td>...</td>\n",
       "      <td>...</td>\n",
       "      <td>...</td>\n",
       "    </tr>\n",
       "    <tr>\n",
       "      <th>601</th>\n",
       "      <td>601</td>\n",
       "      <td>582.0</td>\n",
       "      <td>Nate Hinton</td>\n",
       "      <td>IND</td>\n",
       "      <td>23.0</td>\n",
       "      <td>2.0</td>\n",
       "      <td>0.0</td>\n",
       "      <td>2.0</td>\n",
       "      <td>1.2</td>\n",
       "      <td>0.0</td>\n",
       "      <td>...</td>\n",
       "      <td>0.5</td>\n",
       "      <td>0.0</td>\n",
       "      <td>0.0</td>\n",
       "      <td>0.0</td>\n",
       "      <td>-0.5</td>\n",
       "      <td>0.0</td>\n",
       "      <td>0.0</td>\n",
       "      <td>2.0</td>\n",
       "      <td>2021</td>\n",
       "      <td>Regular</td>\n",
       "    </tr>\n",
       "    <tr>\n",
       "      <th>602</th>\n",
       "      <td>602</td>\n",
       "      <td>582.0</td>\n",
       "      <td>Sam Dekker</td>\n",
       "      <td>TOR</td>\n",
       "      <td>28.0</td>\n",
       "      <td>1.0</td>\n",
       "      <td>1.0</td>\n",
       "      <td>0.0</td>\n",
       "      <td>0.9</td>\n",
       "      <td>0.0</td>\n",
       "      <td>...</td>\n",
       "      <td>0.0</td>\n",
       "      <td>0.0</td>\n",
       "      <td>0.0</td>\n",
       "      <td>0.0</td>\n",
       "      <td>0.0</td>\n",
       "      <td>0.0</td>\n",
       "      <td>0.0</td>\n",
       "      <td>-5.0</td>\n",
       "      <td>2021</td>\n",
       "      <td>Regular</td>\n",
       "    </tr>\n",
       "    <tr>\n",
       "      <th>603</th>\n",
       "      <td>603</td>\n",
       "      <td>582.0</td>\n",
       "      <td>Trayvon Palmer</td>\n",
       "      <td>DET</td>\n",
       "      <td>27.0</td>\n",
       "      <td>1.0</td>\n",
       "      <td>0.0</td>\n",
       "      <td>1.0</td>\n",
       "      <td>16.8</td>\n",
       "      <td>0.0</td>\n",
       "      <td>...</td>\n",
       "      <td>1.0</td>\n",
       "      <td>0.0</td>\n",
       "      <td>0.0</td>\n",
       "      <td>2.0</td>\n",
       "      <td>1.4</td>\n",
       "      <td>0.0</td>\n",
       "      <td>0.0</td>\n",
       "      <td>-12.0</td>\n",
       "      <td>2021</td>\n",
       "      <td>Regular</td>\n",
       "    </tr>\n",
       "    <tr>\n",
       "      <th>604</th>\n",
       "      <td>604</td>\n",
       "      <td>582.0</td>\n",
       "      <td>Tyler Hall</td>\n",
       "      <td>NYK</td>\n",
       "      <td>25.0</td>\n",
       "      <td>1.0</td>\n",
       "      <td>1.0</td>\n",
       "      <td>0.0</td>\n",
       "      <td>1.9</td>\n",
       "      <td>0.0</td>\n",
       "      <td>...</td>\n",
       "      <td>0.0</td>\n",
       "      <td>0.0</td>\n",
       "      <td>0.0</td>\n",
       "      <td>0.0</td>\n",
       "      <td>0.0</td>\n",
       "      <td>0.0</td>\n",
       "      <td>0.0</td>\n",
       "      <td>-5.0</td>\n",
       "      <td>2021</td>\n",
       "      <td>Regular</td>\n",
       "    </tr>\n",
       "    <tr>\n",
       "      <th>605</th>\n",
       "      <td>605</td>\n",
       "      <td>582.0</td>\n",
       "      <td>Zylan Cheatham</td>\n",
       "      <td>UTA</td>\n",
       "      <td>26.0</td>\n",
       "      <td>1.0</td>\n",
       "      <td>0.0</td>\n",
       "      <td>1.0</td>\n",
       "      <td>5.2</td>\n",
       "      <td>0.0</td>\n",
       "      <td>...</td>\n",
       "      <td>0.0</td>\n",
       "      <td>0.0</td>\n",
       "      <td>0.0</td>\n",
       "      <td>0.0</td>\n",
       "      <td>0.0</td>\n",
       "      <td>0.0</td>\n",
       "      <td>0.0</td>\n",
       "      <td>-13.0</td>\n",
       "      <td>2021</td>\n",
       "      <td>Regular</td>\n",
       "    </tr>\n",
       "  </tbody>\n",
       "</table>\n",
       "<p>6734 rows × 33 columns</p>\n",
       "</div>"
      ],
      "text/plain": [
       "     trad_unnamed: 0  trad_unnamed: 1     trad_player trad_team  trad_age  \\\n",
       "0                  0              NaN             NaN       NaN       NaN   \n",
       "1                  1              1.0    Kevin Durant       OKC      23.0   \n",
       "2                  2              2.0     Kobe Bryant       LAL      33.0   \n",
       "3                  3              3.0    LeBron James       MIA      27.0   \n",
       "4                  4              4.0      Kevin Love       MIN      23.0   \n",
       "..               ...              ...             ...       ...       ...   \n",
       "601              601            582.0     Nate Hinton       IND      23.0   \n",
       "602              602            582.0      Sam Dekker       TOR      28.0   \n",
       "603              603            582.0  Trayvon Palmer       DET      27.0   \n",
       "604              604            582.0      Tyler Hall       NYK      25.0   \n",
       "605              605            582.0  Zylan Cheatham       UTA      26.0   \n",
       "\n",
       "     trad_gp  trad_w  trad_l  trad_min  trad_pts  ...  trad_tov  trad_stl  \\\n",
       "0        NaN     NaN     NaN       NaN       NaN  ...       NaN       NaN   \n",
       "1       66.0    47.0    19.0      38.6      28.0  ...       3.8       1.3   \n",
       "2       58.0    36.0    22.0      38.5      27.9  ...       3.5       1.2   \n",
       "3       62.0    45.0    17.0      37.5      27.1  ...       3.4       1.9   \n",
       "4       55.0    24.0    31.0      39.0      26.0  ...       2.3       0.9   \n",
       "..       ...     ...     ...       ...       ...  ...       ...       ...   \n",
       "601      2.0     0.0     2.0       1.2       0.0  ...       0.5       0.0   \n",
       "602      1.0     1.0     0.0       0.9       0.0  ...       0.0       0.0   \n",
       "603      1.0     0.0     1.0      16.8       0.0  ...       1.0       0.0   \n",
       "604      1.0     1.0     0.0       1.9       0.0  ...       0.0       0.0   \n",
       "605      1.0     0.0     1.0       5.2       0.0  ...       0.0       0.0   \n",
       "\n",
       "     trad_blk  trad_pf  trad_fp  trad_dd2  trad_td3  trad_+/-  trad_season  \\\n",
       "0         NaN      NaN      NaN       NaN       NaN       NaN         2011   \n",
       "1         1.2      2.0     46.6      18.0       0.0       5.6         2011   \n",
       "2         0.3      1.8     42.1       3.0       0.0       2.4         2011   \n",
       "3         0.8      1.5     50.6      23.0       0.0       7.6         2011   \n",
       "4         0.5      2.8     46.8      48.0       0.0       0.5         2011   \n",
       "..        ...      ...      ...       ...       ...       ...          ...   \n",
       "601       0.0      0.0     -0.5       0.0       0.0       2.0         2021   \n",
       "602       0.0      0.0      0.0       0.0       0.0      -5.0         2021   \n",
       "603       0.0      2.0      1.4       0.0       0.0     -12.0         2021   \n",
       "604       0.0      0.0      0.0       0.0       0.0      -5.0         2021   \n",
       "605       0.0      0.0      0.0       0.0       0.0     -13.0         2021   \n",
       "\n",
       "     trad_season_type  \n",
       "0             Regular  \n",
       "1             Regular  \n",
       "2             Regular  \n",
       "3             Regular  \n",
       "4             Regular  \n",
       "..                ...  \n",
       "601           Regular  \n",
       "602           Regular  \n",
       "603           Regular  \n",
       "604           Regular  \n",
       "605           Regular  \n",
       "\n",
       "[6734 rows x 33 columns]"
      ]
     },
     "execution_count": 25,
     "metadata": {},
     "output_type": "execute_result"
    }
   ],
   "source": [
    "trad_data"
   ]
  },
  {
   "cell_type": "code",
   "execution_count": 26,
   "metadata": {},
   "outputs": [],
   "source": [
    "trad_data['trad_season'] = trad_data['trad_season'].astype(np.int64)"
   ]
  },
  {
   "cell_type": "code",
   "execution_count": 27,
   "metadata": {},
   "outputs": [],
   "source": [
    "adv_data.adv_season = adv_data.adv_season.astype(np.int64)"
   ]
  },
  {
   "cell_type": "code",
   "execution_count": 28,
   "metadata": {},
   "outputs": [],
   "source": [
    "# merge advanced and traditional data\n",
    "all_gen_data = pd.merge(adv_data, trad_data.drop_duplicates(subset = ['trad_player','trad_season', 'trad_season_type']),\n",
    "                 left_on= ['adv_player','adv_season', 'adv_season_type'], \n",
    "                 right_on= ['trad_player','trad_season', 'trad_season_type'], \n",
    "                 how = 'left')"
   ]
  },
  {
   "cell_type": "code",
   "execution_count": 29,
   "metadata": {},
   "outputs": [],
   "source": [
    "def_data['def_season'] = def_data['def_season'].astype(np.int64)"
   ]
  },
  {
   "cell_type": "code",
   "execution_count": 30,
   "metadata": {},
   "outputs": [],
   "source": [
    "# merge defense data with adv&trad data\n",
    "\n",
    "all_gen_data = pd.merge(all_gen_data, def_data.drop_duplicates(subset = ['def_player','def_season', 'def_season_type']), \n",
    "    left_on= ['adv_player','adv_season', 'adv_season_type'], \n",
    "    right_on= ['def_player','def_season', 'def_season_type'], \n",
    "    how = 'left')"
   ]
  },
  {
   "cell_type": "code",
   "execution_count": 31,
   "metadata": {},
   "outputs": [],
   "source": [
    "scoring_data['scor_season'] = scoring_data['scor_season'].astype(np.int64)"
   ]
  },
  {
   "cell_type": "code",
   "execution_count": 32,
   "metadata": {},
   "outputs": [],
   "source": [
    "# merge scoring data with adv&trad&def data\n",
    "\n",
    "all_gen_data = pd.merge(all_gen_data, scoring_data.drop_duplicates(subset = ['scor_player','scor_season', 'scor_season_type']), \n",
    "    left_on= ['adv_player','adv_season', 'adv_season_type'], \n",
    "    right_on= ['scor_player','scor_season', 'scor_season_type'], \n",
    "    how = 'left')"
   ]
  },
  {
   "cell_type": "code",
   "execution_count": 33,
   "metadata": {},
   "outputs": [],
   "source": [
    "usage_data['usage_season'] = usage_data['usage_season'].astype(np.int64)"
   ]
  },
  {
   "cell_type": "code",
   "execution_count": 34,
   "metadata": {},
   "outputs": [],
   "source": [
    "# merge usage data with adv&trad&def&scoring data\n",
    "\n",
    "all_gen_data = pd.merge(all_gen_data, usage_data.drop_duplicates(subset = ['usage_player','usage_season', 'usage_season_type'] ), \n",
    "    left_on= ['adv_player','adv_season', 'adv_season_type'], \n",
    "    right_on= ['usage_player','usage_season', 'usage_season_type'], \n",
    "    how = 'left')"
   ]
  },
  {
   "cell_type": "code",
   "execution_count": 35,
   "metadata": {},
   "outputs": [],
   "source": [
    "all_gen_data.to_csv('data/player/aggregates/player_general_all_aggregates_seasonview.csv')"
   ]
  }
 ],
 "metadata": {
  "kernelspec": {
   "display_name": "Trav310",
   "language": "python",
   "name": "python3"
  },
  "language_info": {
   "codemirror_mode": {
    "name": "ipython",
    "version": 3
   },
   "file_extension": ".py",
   "mimetype": "text/x-python",
   "name": "python",
   "nbconvert_exporter": "python",
   "pygments_lexer": "ipython3",
   "version": "3.10.8"
  },
  "orig_nbformat": 4,
  "vscode": {
   "interpreter": {
    "hash": "f69e36f0e9b2c8d9f319b417484f14b77c91d7bef950ad448542405eb1e0e594"
   }
  }
 },
 "nbformat": 4,
 "nbformat_minor": 2
}
