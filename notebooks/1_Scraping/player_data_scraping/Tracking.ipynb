{
 "cells": [
  {
   "cell_type": "code",
   "execution_count": 1,
   "metadata": {},
   "outputs": [],
   "source": [
    "import pandas as pd\n",
    "import numpy as np\n",
    "import matplotlib.pyplot as plt\n",
    "%matplotlib inline\n",
    "import matplotlib.ticker as mtick\n",
    "import sqlite3\n",
    "import seaborn as sns\n",
    "from matplotlib.offsetbox import OffsetImage, AnnotationBbox\n",
    "from selenium import webdriver\n",
    "from selenium.webdriver.common.keys import Keys\n",
    "from bs4 import BeautifulSoup\n",
    "from selenium.webdriver.common.by import By\n",
    "from selenium.webdriver.support.ui import WebDriverWait\n",
    "from selenium.webdriver.support import expected_conditions as EC\n",
    "import time\n",
    "import requests   \n",
    "import shutil      \n",
    "import datetime\n",
    "from scipy.stats import norm\n",
    "import os\n",
    "import winsound\n",
    "\n",
    "home_folder = 'C:\\\\Users\\\\Travis\\\\OneDrive\\\\Data Science\\\\Personal_Projects\\\\Sports\\\\NBA_Prediction_V3_1'\n",
    "os.chdir(home_folder)"
   ]
  },
  {
   "attachments": {},
   "cell_type": "markdown",
   "metadata": {},
   "source": [
    "## Scrape Tracking Data\n",
    "\n",
    "Note: No Playoff Data Available (which is fine)"
   ]
  },
  {
   "cell_type": "code",
   "execution_count": 2,
   "metadata": {},
   "outputs": [],
   "source": [
    "def replace_name_values2(filename):\n",
    "        # replace values with dashes for compatibility\n",
    "    filename = filename.replace('%','_')\n",
    "    filename = filename.replace('=','_')\n",
    "    filename = filename.replace('?','_')\n",
    "    filename = filename.replace('&','_')\n",
    "    filename = filename.replace('20Season_','')\n",
    "    filename = filename.replace('_20Season','')\n",
    "    filename = filename.replace('SeasonType_','')\n",
    "    filename = filename.replace('sort_gdate_dir_-1_','')\n",
    "    filename = filename.replace('SeasonYear_','')\n",
    "    return filename"
   ]
  },
  {
   "cell_type": "code",
   "execution_count": 3,
   "metadata": {},
   "outputs": [],
   "source": [
    "def trans_urls(url):\n",
    "    new_url = str(url)[34:].replace('/', '_')\n",
    "    filename = replace_name_values2(new_url)\n",
    "    filename = filename.replace('SeasonYear_', '')\n",
    "    filename = filename.replace('_Season_','')\n",
    "    return filename"
   ]
  },
  {
   "cell_type": "code",
   "execution_count": 4,
   "metadata": {},
   "outputs": [],
   "source": [
    "def grab_player_tracking_stats(url_list, file_folder):\n",
    "        driver = webdriver.Chrome()\n",
    "        i = 0\n",
    "        for u in url_list:\n",
    "                driver.get(u)\n",
    "                time.sleep(1)\n",
    "                # if the page does not load, go to the next in the list\n",
    "                try:\n",
    "                        xpath = '//*[@id=\"__next\"]/div[2]/div[2]/div[3]/section[2]/div/div[2]/div[2]/div[1]/div[3]/div/label/div/select/option[1]'\n",
    "                        elem = WebDriverWait(driver, 30).until(EC.presence_of_element_located((By.XPATH, xpath)))\n",
    "                except:\n",
    "                        print(f'{u} did not load. Moving to next url.')\n",
    "                        continue\n",
    "                \n",
    "                elem = WebDriverWait(driver, 30).until(EC.presence_of_element_located((By.XPATH, xpath)))\n",
    "                driver.find_element(by=By.XPATH, value=xpath).click()\n",
    "                src = driver.page_source\n",
    "                parser = BeautifulSoup(src, \"lxml\")\n",
    "                table = parser.find(\"table\", attrs = {\"class\":\"Crom_table__p1iZz\"})\n",
    "                \n",
    "                # get the headers\n",
    "\n",
    "                headers = table.findAll('th')\n",
    "                headerlist = [h.text.strip() for h in headers[0:]] \n",
    "\n",
    "                # if there are repreated headers in headerlist, delete them\n",
    "                headerlist = [i for n, i in enumerate(headerlist) if i not in headerlist[:n]]\n",
    "\n",
    "                row_names = table.findAll('a')             \n",
    "                row_list = [b.text.strip() for b in row_names[0:]] \n",
    "                rows = table.findAll('tr')[0:]\n",
    "                player_stats = [[td.getText().strip() for td in rows[i].findAll('td')[0:]] for i in range(len(rows))]\n",
    "                tot_cols = len(headerlist)\n",
    "                headerlist = headerlist[:tot_cols]       \n",
    "                stats = pd.DataFrame(player_stats, columns = headerlist)\n",
    "\n",
    "\n",
    "                filename = file_folder + str(u[34:]).replace('/', '_') + '.csv'\n",
    "                filename = replace_name_values2(filename)\n",
    "                filename = filename.replace('_Season_','')\n",
    "\n",
    "                # save\n",
    "                pd.DataFrame.to_csv(stats, filename)\n",
    "                \n",
    "                # increment counter\n",
    "                i += 1\n",
    "                lu = len(url_list)\n",
    "                print(f'{filename} Completed Successfully! {i} / {lu} Complete!')"
   ]
  },
  {
   "cell_type": "code",
   "execution_count": 5,
   "metadata": {},
   "outputs": [],
   "source": [
    "def append_the_data(folder, data_prefix, filename_selector):\n",
    "    # Appending data together via folder and/or file name\n",
    "\n",
    "    path = folder\n",
    "    p = os.listdir(path)\n",
    "    pf = pd.DataFrame(p)\n",
    "\n",
    "\n",
    "    # filter for files that contain the filename_selector\n",
    "    pf_reg = pf.loc[pf[0].astype(str).str.contains(filename_selector)] \n",
    "\n",
    "    appended_data = []\n",
    "    for file in pf_reg[0]:\n",
    "        data = pd.read_csv(folder + '/' + file)\n",
    "        # if \"Season\" a column, drop it\n",
    "        if 'Season' in data.columns:\n",
    "            data = data.drop(columns = ['Season'])\n",
    "        \n",
    "        data['season'] = file[(file.find('20')):(file.find('20'))+4]\n",
    "        data['season_type'] = np.where('Regular' in file, 'Regular', 'Playoffs')\n",
    "        # add prefix to columns\n",
    "        data = data.add_prefix(data_prefix)\n",
    "        data.columns = data.columns.str.lower()\n",
    "        appended_data.append(data)\n",
    "    \n",
    "    appended_data = pd.concat(appended_data)\n",
    "    return appended_data"
   ]
  },
  {
   "cell_type": "code",
   "execution_count": 7,
   "metadata": {},
   "outputs": [],
   "source": [
    "# Get URLS\n",
    "def get_urls():\n",
    "        drives = 'https://www.nba.com/stats/players/drives/?Season='    #=2018-19&SeasonType=Regular%20Season'\n",
    "        defensive_impact = 'https://www.nba.com/stats/players/defensive-impact/?Season='    #=2018-19&SeasonType=Regular%20Season'\n",
    "        catch_n_shoot = 'https://www.nba.com/stats/players/catch-shoot/?Season=' \n",
    "        passing = 'https://www.nba.com/stats/players/passing/?Season='\n",
    "        touches = 'https://www.nba.com/stats/players/touches/?Season='\n",
    "        pullup_shooting = 'https://www.nba.com/stats/players/pullup/?Season='\n",
    "        rebounds = 'https://www.nba.com/stats/players/rebounding/?Season='\n",
    "        offensive_rebounding = 'https://www.nba.com/stats/players/offensive-rebounding/?Season='\n",
    "        defensive_rebounding = 'https://www.nba.com/stats/players/defensive-rebounding/?Season='\n",
    "        shooting_efficiency = 'https://www.nba.com/stats/players/shooting-efficiency/?Season='\n",
    "        speed_distance = 'https://www.nba.com/stats/players/speed-distance/?Season='\n",
    "        elbow_touch = 'https://www.nba.com/stats/players/elbow-touch/?Season='\n",
    "        postups= 'https://www.nba.com/stats/players/tracking-post-ups/?Season='\n",
    "        paint_touches = 'https://www.nba.com/stats/players/paint-touch/?Season='\n",
    "\n",
    "        tracking_stats = [drives, defensive_impact, catch_n_shoot, passing, touches, pullup_shooting, rebounds, offensive_rebounding, defensive_rebounding, shooting_efficiency, speed_distance, elbow_touch, postups, paint_touches]\n",
    "        seasonz = ['2021-22', '2020-21', '2019-20', '2018-19', '2017-18', '2016-17', '2015-16', '2014-15', '2013-14']\n",
    "\n",
    "        tracking_urls = []\n",
    "        for s in seasonz:\n",
    "                for t in tracking_stats:\n",
    "                        tracking_urls.append(t + s + '&SeasonType=Regular%20Season')\n",
    "\n",
    "        to_download = pd.DataFrame(tracking_urls, columns = ['urls'])\n",
    "\n",
    "        # create new column with filename\n",
    "        to_download['filename'] = to_download.apply(lambda row: trans_urls(row['urls']), axis=1)\n",
    "        return to_download"
   ]
  },
  {
   "cell_type": "code",
   "execution_count": 8,
   "metadata": {},
   "outputs": [],
   "source": [
    "to_download = get_urls()"
   ]
  },
  {
   "cell_type": "code",
   "execution_count": 9,
   "metadata": {},
   "outputs": [
    {
     "data": {
      "text/plain": [
       "0"
      ]
     },
     "execution_count": 9,
     "metadata": {},
     "output_type": "execute_result"
    }
   ],
   "source": [
    "# Check to see if the files already exist\n",
    "folder = 'data/player/tracking/regular_season'\n",
    "file_list = os.listdir(folder)\n",
    "file_list = [f.replace('.csv', '') for f in file_list]\n",
    "\n",
    "# get list of files not yet downloaded\n",
    "to_download = to_download.loc[~to_download['filename'].isin(file_list)]\n",
    "to_download = to_download['urls'].tolist()\n",
    "len(to_download)\n"
   ]
  },
  {
   "cell_type": "code",
   "execution_count": 10,
   "metadata": {},
   "outputs": [],
   "source": [
    "# download the files\n",
    "grab_player_tracking_stats(to_download, 'data/player/tracking/regular_season/')"
   ]
  },
  {
   "attachments": {},
   "cell_type": "markdown",
   "metadata": {},
   "source": [
    "### Update This Year"
   ]
  },
  {
   "cell_type": "code",
   "execution_count": 11,
   "metadata": {},
   "outputs": [],
   "source": [
    "drives = 'https://www.nba.com/stats/players/drives/?Season='    #=2018-19&SeasonType=Regular%20Season'\n",
    "defensive_impact = 'https://www.nba.com/stats/players/defensive-impact/?Season='    #=2018-19&SeasonType=Regular%20Season'\n",
    "catch_n_shoot = 'https://www.nba.com/stats/players/catch-shoot/?Season=' \n",
    "passing = 'https://www.nba.com/stats/players/passing/?Season='\n",
    "touches = 'https://www.nba.com/stats/players/touches/?Season='\n",
    "pullup_shooting = 'https://www.nba.com/stats/players/pullup/?Season='\n",
    "rebounds = 'https://www.nba.com/stats/players/rebounding/?Season='\n",
    "offensive_rebounding = 'https://www.nba.com/stats/players/offensive-rebounding/?Season='\n",
    "defensive_rebounding = 'https://www.nba.com/stats/players/defensive-rebounding/?Season='\n",
    "shooting_efficiency = 'https://www.nba.com/stats/players/shooting-efficiency/?Season='\n",
    "speed_distance = 'https://www.nba.com/stats/players/speed-distance/?Season='\n",
    "elbow_touch = 'https://www.nba.com/stats/players/elbow-touch/?Season='\n",
    "postups= 'https://www.nba.com/stats/players/tracking-post-ups/?Season='\n",
    "paint_touches = 'https://www.nba.com/stats/players/paint-touch/?Season='\n",
    "\n",
    "tracking_stats = [drives, defensive_impact, catch_n_shoot, passing, touches, pullup_shooting, rebounds, offensive_rebounding, defensive_rebounding, shooting_efficiency, speed_distance, elbow_touch, postups, paint_touches]\n",
    "\n",
    "update_urls = []\n",
    "\n",
    "for t in tracking_stats:\n",
    "        update_urls.append(t + '2022-23' + '&SeasonType=Regular%20Season')"
   ]
  },
  {
   "cell_type": "code",
   "execution_count": 13,
   "metadata": {},
   "outputs": [
    {
     "name": "stdout",
     "output_type": "stream",
     "text": [
      "data/player/tracking/drives_2022-23_Regular.csv Completed Successfully! 1 / 14 Complete!\n",
      "data/player/tracking/defensive-impact_2022-23_Regular.csv Completed Successfully! 2 / 14 Complete!\n",
      "data/player/tracking/catch-shoot_2022-23_Regular.csv Completed Successfully! 3 / 14 Complete!\n",
      "data/player/tracking/passing_2022-23_Regular.csv Completed Successfully! 4 / 14 Complete!\n",
      "data/player/tracking/touches_2022-23_Regular.csv Completed Successfully! 5 / 14 Complete!\n",
      "data/player/tracking/pullup_2022-23_Regular.csv Completed Successfully! 6 / 14 Complete!\n",
      "data/player/tracking/rebounding_2022-23_Regular.csv Completed Successfully! 7 / 14 Complete!\n",
      "data/player/tracking/offensive-rebounding_2022-23_Regular.csv Completed Successfully! 8 / 14 Complete!\n",
      "data/player/tracking/defensive-rebounding_2022-23_Regular.csv Completed Successfully! 9 / 14 Complete!\n",
      "data/player/tracking/shooting-efficiency_2022-23_Regular.csv Completed Successfully! 10 / 14 Complete!\n",
      "data/player/tracking/speed-distance_2022-23_Regular.csv Completed Successfully! 11 / 14 Complete!\n",
      "data/player/tracking/elbow-touch_2022-23_Regular.csv Completed Successfully! 12 / 14 Complete!\n",
      "data/player/tracking/tracking-post-ups_2022-23_Regular.csv Completed Successfully! 13 / 14 Complete!\n",
      "data/player/tracking/paint-touch_2022-23_Regular.csv Completed Successfully! 14 / 14 Complete!\n"
     ]
    }
   ],
   "source": [
    "driver = webdriver.Chrome()\n",
    "grab_player_tracking_stats(update_urls, 'data/player/tracking/')\n",
    "driver.close()"
   ]
  },
  {
   "cell_type": "code",
   "execution_count": 14,
   "metadata": {},
   "outputs": [],
   "source": [
    "# move files to proper folders\n",
    "files = os.listdir('data/player/tracking/')\n",
    "for f in files:\n",
    "    if '.csv' in f:\n",
    "        if 'Regular' in f:\n",
    "            shutil.move('data/player/tracking/' + f, 'data/player/tracking/regular_season/' + f)\n",
    "        elif 'Playoffs' in f:\n",
    "            shutil.move('data/player/tracking/' + f, 'data/player/tracking/playoffs/' + f)"
   ]
  },
  {
   "cell_type": "code",
   "execution_count": 11,
   "metadata": {},
   "outputs": [],
   "source": [
    "# Check Again\n",
    "\n",
    "to_download = get_urls()"
   ]
  },
  {
   "cell_type": "code",
   "execution_count": 12,
   "metadata": {},
   "outputs": [
    {
     "data": {
      "text/plain": [
       "0"
      ]
     },
     "execution_count": 12,
     "metadata": {},
     "output_type": "execute_result"
    }
   ],
   "source": [
    "# Check to see if the files already exist\n",
    "folder = 'data/player/tracking/regular_season'\n",
    "file_list = os.listdir(folder)\n",
    "file_list = [f.replace('.csv', '') for f in file_list]\n",
    "\n",
    "# get list of files not yet downloaded\n",
    "to_download = to_download.loc[~to_download['filename'].isin(file_list)]\n",
    "to_download = to_download['urls'].tolist()\n",
    "len(to_download)"
   ]
  },
  {
   "cell_type": "code",
   "execution_count": 13,
   "metadata": {},
   "outputs": [
    {
     "name": "stdout",
     "output_type": "stream",
     "text": [
      "All files downloaded!\n"
     ]
    }
   ],
   "source": [
    "if len(to_download) == 0:\n",
    "    print('All files downloaded!')\n",
    "else:\n",
    "    print('Some files not downloaded')"
   ]
  },
  {
   "attachments": {},
   "cell_type": "markdown",
   "metadata": {},
   "source": [
    "### Append"
   ]
  },
  {
   "cell_type": "code",
   "execution_count": 16,
   "metadata": {},
   "outputs": [
    {
     "name": "stdout",
     "output_type": "stream",
     "text": [
      " drives: (5179, 26), defensive impact: (5179, 15), catch n shoot: (5179, 15), passing: (5179, 18), touches: (5179, 22), pullup shooting: (5179, 17), offensive rebounding: (5179, 17), defensive rebounding: (5179, 17), shooting efficiency: (5179, 23), speed distance: (5179, 16), elbow touch: (5785, 27), postups: (5179, 27), paint touches: (5179, 27)\n"
     ]
    }
   ],
   "source": [
    "# Append\n",
    "drives_df = append_the_data('data/player/tracking/regular_season/', 'tracking_drives__', 'drives')\n",
    "defensive_impact_df = append_the_data('data/player/tracking/regular_season/', 'tracking_defensive_impact__', 'defensive-impact')\n",
    "catch_n_shoot_df = append_the_data('data/player/tracking/regular_season/', 'tracking_catch_n_shoot__', 'catch-shoot')\n",
    "passing_df = append_the_data('data/player/tracking/regular_season/', 'tracking_passing__', 'passing')\n",
    "touches_df = append_the_data('data/player/tracking/regular_season/', 'tracking_touches__', 'touches')\n",
    "pullup_shooting_df = append_the_data('data/player/tracking/regular_season/', 'tracking_pullup_shooting__', 'pullup')\n",
    "offensive_rebounding_df = append_the_data('data/player/tracking/regular_season/', 'tracking_offensive_rebounding__', 'offensive-rebounding')\n",
    "defensive_rebounding_df = append_the_data('data/player/tracking/regular_season/', 'tracking_defensive_rebounding__', 'defensive-rebounding')\n",
    "shooting_efficiency_df = append_the_data('data/player/tracking/regular_season/', 'tracking_shooting_efficiency__', 'shooting-efficiency')\n",
    "speed_distance_df = append_the_data('data/player/tracking/regular_season/', 'tracking_speed_distance__', 'speed-distance')\n",
    "elbow_touch_df = append_the_data('data/player/tracking/regular_season/', 'tracking_elbow_touch__', 'elbow-touch')\n",
    "postups_df = append_the_data('data/player/tracking/regular_season/', 'tracking_postups__', 'post-ups')\n",
    "paint_touches_df = append_the_data('data/player/tracking/regular_season/', 'tracking_paint_touches__', 'paint-touch')\n",
    "\n",
    "# Save\n",
    "drives_df.to_csv('data/player/aggregates/tracking_drives.csv')\n",
    "defensive_impact_df.to_csv('data/player/aggregates/tracking_defensive_impact.csv')\n",
    "catch_n_shoot_df.to_csv('data/player/aggregates/tracking_catch_n_shoot.csv')\n",
    "passing_df.to_csv('data/player/aggregates/tracking_passing.csv')\n",
    "touches_df.to_csv('data/player/aggregates/tracking_touches.csv')\n",
    "pullup_shooting_df.to_csv('data/player/aggregates/tracking_pullup_shooting.csv')\n",
    "offensive_rebounding_df.to_csv('data/player/aggregates/tracking_offensive_rebounding.csv')\n",
    "defensive_rebounding_df.to_csv('data/player/aggregates/tracking_defensive_rebounding.csv')\n",
    "shooting_efficiency_df.to_csv('data/player/aggregates/tracking_shooting_efficiency.csv')\n",
    "speed_distance_df.to_csv('data/player/aggregates/tracking_speed_distance.csv')\n",
    "elbow_touch_df.to_csv('data/player/aggregates/tracking_elbow_touch.csv')\n",
    "postups_df.to_csv('data/player/aggregates/tracking_postups.csv')\n",
    "paint_touches_df.to_csv('data/player/aggregates/tracking_paint_touches.csv')\n",
    "\n",
    "print(f' drives: {drives_df.shape}, defensive impact: {defensive_impact_df.shape}, catch n shoot: {catch_n_shoot_df.shape}, passing: {passing_df.shape}, touches: {touches_df.shape}, pullup shooting: {pullup_shooting_df.shape}, offensive rebounding: {offensive_rebounding_df.shape}, defensive rebounding: {defensive_rebounding_df.shape}, shooting efficiency: {shooting_efficiency_df.shape}, speed distance: {speed_distance_df.shape}, elbow touch: {elbow_touch_df.shape}, postups: {postups_df.shape}, paint touches: {paint_touches_df.shape}')"
   ]
  },
  {
   "cell_type": "code",
   "execution_count": 17,
   "metadata": {},
   "outputs": [
    {
     "name": "stdout",
     "output_type": "stream",
     "text": [
      " drives: (5179, 26), defensive impact: (5179, 15), all_tracking_data: (5179, 41)\n"
     ]
    }
   ],
   "source": [
    "all_tracking_data = pd.merge(drives_df, defensive_impact_df,\n",
    "                                left_on = ['tracking_drives__player', 'tracking_drives__team' ,'tracking_drives__season', 'tracking_drives__season_type'],\n",
    "                                right_on = ['tracking_defensive_impact__player', 'tracking_defensive_impact__team', 'tracking_defensive_impact__season', 'tracking_defensive_impact__season_type'],\n",
    "                                how = 'left')\n",
    "\n",
    "print(f' drives: {drives_df.shape}, defensive impact: {defensive_impact_df.shape}, all_tracking_data: {all_tracking_data.shape}')"
   ]
  },
  {
   "cell_type": "code",
   "execution_count": 18,
   "metadata": {},
   "outputs": [
    {
     "name": "stdout",
     "output_type": "stream",
     "text": [
      " drives: (5179, 26), defensive impact: (5179, 15), catch n shoot: (5179, 15), all_tracking_data2: (5179, 56)\n"
     ]
    }
   ],
   "source": [
    "# add catch n shoot\n",
    "all_tracking_data2 = pd.merge(all_tracking_data, catch_n_shoot_df,\n",
    "                                left_on = ['tracking_drives__player', 'tracking_drives__team' ,'tracking_drives__season', 'tracking_drives__season_type'],\n",
    "                                right_on = ['tracking_catch_n_shoot__player', 'tracking_catch_n_shoot__team', 'tracking_catch_n_shoot__season', 'tracking_catch_n_shoot__season_type'],\n",
    "                                how = 'left')\n",
    "\n",
    "print(f' drives: {drives_df.shape}, defensive impact: {defensive_impact_df.shape}, catch n shoot: {catch_n_shoot_df.shape}, all_tracking_data2: {all_tracking_data2.shape}')"
   ]
  },
  {
   "cell_type": "code",
   "execution_count": 19,
   "metadata": {},
   "outputs": [
    {
     "name": "stdout",
     "output_type": "stream",
     "text": [
      " drives: (5179, 26), defensive impact: (5179, 15), catch n shoot: (5179, 15), passing: (5179, 18), all_tracking_data3: (5179, 74)\n"
     ]
    }
   ],
   "source": [
    "# add passing\n",
    "all_tracking_data3 = pd.merge(all_tracking_data2, passing_df,\n",
    "                                left_on = ['tracking_drives__player', 'tracking_drives__team' ,'tracking_drives__season', 'tracking_drives__season_type'],\n",
    "                                right_on = ['tracking_passing__player', 'tracking_passing__team', 'tracking_passing__season', 'tracking_passing__season_type'],\n",
    "                                how = 'left')\n",
    "\n",
    "print(f' drives: {drives_df.shape}, defensive impact: {defensive_impact_df.shape}, catch n shoot: {catch_n_shoot_df.shape}, passing: {passing_df.shape}, all_tracking_data3: {all_tracking_data3.shape}')"
   ]
  },
  {
   "cell_type": "code",
   "execution_count": 20,
   "metadata": {},
   "outputs": [],
   "source": [
    "# add touches\n",
    "all_tracking_data4 = pd.merge(all_tracking_data3, touches_df,\n",
    "                                left_on = ['tracking_drives__player', 'tracking_drives__team' ,'tracking_drives__season', 'tracking_drives__season_type'],\n",
    "                                right_on = ['tracking_touches__player', 'tracking_touches__team', 'tracking_touches__season', 'tracking_touches__season_type'],\n",
    "                                how = 'left')"
   ]
  },
  {
   "cell_type": "code",
   "execution_count": 21,
   "metadata": {},
   "outputs": [],
   "source": [
    "# add pullup shooting\n",
    "all_tracking_data5 = pd.merge(all_tracking_data4, pullup_shooting_df,\n",
    "                                left_on = ['tracking_drives__player', 'tracking_drives__team' ,'tracking_drives__season', 'tracking_drives__season_type'],\n",
    "                                right_on = ['tracking_pullup_shooting__player', 'tracking_pullup_shooting__team', 'tracking_pullup_shooting__season', 'tracking_pullup_shooting__season_type'],\n",
    "                                how = 'left')"
   ]
  },
  {
   "cell_type": "code",
   "execution_count": 22,
   "metadata": {},
   "outputs": [],
   "source": [
    "# add offensive rebounding\n",
    "all_tracking_data6 = pd.merge(all_tracking_data5, offensive_rebounding_df,\n",
    "                                left_on = ['tracking_drives__player', 'tracking_drives__team' ,'tracking_drives__season', 'tracking_drives__season_type'],\n",
    "                                right_on = ['tracking_offensive_rebounding__player', 'tracking_offensive_rebounding__team', 'tracking_offensive_rebounding__season', 'tracking_offensive_rebounding__season_type'],\n",
    "                                how = 'left')"
   ]
  },
  {
   "cell_type": "code",
   "execution_count": 23,
   "metadata": {},
   "outputs": [],
   "source": [
    "# add defensive rebounding\n",
    "all_tracking_data7 = pd.merge(all_tracking_data6, defensive_rebounding_df,\n",
    "                                left_on = ['tracking_drives__player', 'tracking_drives__team' ,'tracking_drives__season', 'tracking_drives__season_type'],\n",
    "                                right_on = ['tracking_defensive_rebounding__player', 'tracking_defensive_rebounding__team', 'tracking_defensive_rebounding__season', 'tracking_defensive_rebounding__season_type'],\n",
    "                                how = 'left')"
   ]
  },
  {
   "cell_type": "code",
   "execution_count": 24,
   "metadata": {},
   "outputs": [],
   "source": [
    "# add shooting efficiency\n",
    "all_tracking_data8 = pd.merge(all_tracking_data7, shooting_efficiency_df,\n",
    "                                left_on = ['tracking_drives__player', 'tracking_drives__team' ,'tracking_drives__season', 'tracking_drives__season_type'],\n",
    "                                right_on = ['tracking_shooting_efficiency__player', 'tracking_shooting_efficiency__team', 'tracking_shooting_efficiency__season', 'tracking_shooting_efficiency__season_type'],\n",
    "                                how = 'left')"
   ]
  },
  {
   "cell_type": "code",
   "execution_count": 25,
   "metadata": {},
   "outputs": [],
   "source": [
    "# add speed distance\n",
    "all_tracking_data9 = pd.merge(all_tracking_data8, speed_distance_df,\n",
    "                                left_on = ['tracking_drives__player', 'tracking_drives__team' ,'tracking_drives__season', 'tracking_drives__season_type'],\n",
    "                                right_on = ['tracking_speed_distance__player', 'tracking_speed_distance__team', 'tracking_speed_distance__season', 'tracking_speed_distance__season_type'],\n",
    "                                how = 'left')"
   ]
  },
  {
   "cell_type": "code",
   "execution_count": 26,
   "metadata": {},
   "outputs": [],
   "source": [
    "all_tracking_data10 = pd.merge(all_tracking_data9, catch_n_shoot_df,\n",
    "                                left_on = ['tracking_drives__player', 'tracking_drives__team' ,'tracking_drives__season', 'tracking_drives__season_type'],\n",
    "                                right_on = ['tracking_catch_n_shoot__player', 'tracking_catch_n_shoot__team', 'tracking_catch_n_shoot__season', 'tracking_catch_n_shoot__season_type'],\n",
    "                                how = 'left')"
   ]
  },
  {
   "cell_type": "code",
   "execution_count": 27,
   "metadata": {},
   "outputs": [],
   "source": [
    "all_playtype_data11 = pd.merge(all_tracking_data10, paint_touches_df,\n",
    "                                left_on = ['tracking_drives__player', 'tracking_drives__team' ,'tracking_drives__season', 'tracking_drives__season_type'],\n",
    "                                right_on = ['tracking_paint_touches__player', 'tracking_paint_touches__team', 'tracking_paint_touches__season', 'tracking_paint_touches__season_type'],\n",
    "                                how = 'left')"
   ]
  },
  {
   "cell_type": "code",
   "execution_count": 28,
   "metadata": {},
   "outputs": [],
   "source": [
    "all_playtype_data_final = pd.merge(all_playtype_data11, postups_df,\n",
    "                                left_on = ['tracking_drives__player', 'tracking_drives__team' ,'tracking_drives__season', 'tracking_drives__season_type'],\n",
    "                                right_on = ['tracking_postups__player', 'tracking_postups__team', 'tracking_postups__season', 'tracking_postups__season_type'],\n",
    "                                how = 'left')"
   ]
  },
  {
   "cell_type": "code",
   "execution_count": 29,
   "metadata": {},
   "outputs": [],
   "source": [
    "all_playtype_data_final.to_csv('data/player/aggregates/All_tracking_data.csv', index = False)"
   ]
  },
  {
   "cell_type": "code",
   "execution_count": null,
   "metadata": {},
   "outputs": [],
   "source": []
  }
 ],
 "metadata": {
  "kernelspec": {
   "display_name": "Trav310",
   "language": "python",
   "name": "python3"
  },
  "language_info": {
   "codemirror_mode": {
    "name": "ipython",
    "version": 3
   },
   "file_extension": ".py",
   "mimetype": "text/x-python",
   "name": "python",
   "nbconvert_exporter": "python",
   "pygments_lexer": "ipython3",
   "version": "3.10.8"
  },
  "orig_nbformat": 4,
  "vscode": {
   "interpreter": {
    "hash": "f69e36f0e9b2c8d9f319b417484f14b77c91d7bef950ad448542405eb1e0e594"
   }
  }
 },
 "nbformat": 4,
 "nbformat_minor": 2
}
