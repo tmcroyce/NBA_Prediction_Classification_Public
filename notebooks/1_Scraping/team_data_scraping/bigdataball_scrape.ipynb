{
 "cells": [
  {
   "attachments": {},
   "cell_type": "markdown",
   "metadata": {},
   "source": [
    "# Bigdataball Scrape"
   ]
  },
  {
   "cell_type": "code",
   "execution_count": null,
   "metadata": {},
   "outputs": [],
   "source": [
    "import pandas as pd\n",
    "import numpy as np\n",
    "import matplotlib.pyplot as plt\n",
    "%matplotlib inline\n",
    "import matplotlib.ticker as mtick\n",
    "import sqlite3\n",
    "import seaborn as sns\n",
    "from matplotlib.offsetbox import OffsetImage, AnnotationBbox\n",
    "from selenium import webdriver\n",
    "from selenium.webdriver.common.keys import Keys\n",
    "from bs4 import BeautifulSoup\n",
    "from selenium.webdriver.common.by import By\n",
    "from selenium.webdriver.support.ui import WebDriverWait\n",
    "from selenium.webdriver.support import expected_conditions as EC\n",
    "import time\n",
    "import requests   \n",
    "import shutil      \n",
    "import datetime\n",
    "from scipy.stats import norm\n",
    "from sklearn.preprocessing import OneHotEncoder, OrdinalEncoder\n",
    "import os\n",
    "import winsound\n",
    "os.chdir('C:\\\\Users\\\\Travis\\\\OneDrive\\\\Data Science\\\\Personal_Projects\\\\Sports\\\\NBA_Prediction_V3_1')\n",
    "import warnings\n",
    "warnings.filterwarnings('ignore')\n",
    "\n",
    "from selenium.common.exceptions import WebDriverException\n"
   ]
  },
  {
   "cell_type": "code",
   "execution_count": null,
   "metadata": {},
   "outputs": [],
   "source": [
    "# if no driver is open, open one\n",
    "\n",
    "driver = None\n",
    "\n",
    "def check_and_open_driver(driver):\n",
    "  # if driver is not open\n",
    "    if driver == None:\n",
    "        driver = webdriver.Chrome()\n",
    "    return driver"
   ]
  },
  {
   "cell_type": "code",
   "execution_count": null,
   "metadata": {},
   "outputs": [],
   "source": [
    "driver = check_and_open_driver(driver)"
   ]
  },
  {
   "cell_type": "code",
   "execution_count": null,
   "metadata": {},
   "outputs": [],
   "source": [
    "url = 'https://www.bigdataball.com/my-account/'\n",
    "driver.get(url)\n",
    "\n",
    "# add user name\n",
    "username = '/html/body/div/div/div/div/article/div/div/div/form/p[1]/input'\n",
    "driver.find_element_by_xpath(username).send_keys('traviscroyce@gmail.com')\n",
    "\n",
    "pword = '/html/body/div/div/div/div/article/div/div/div/form/p[2]/span/input'\n",
    "driver.find_element_by_xpath(pword).send_keys('Quiddich1')\n",
    "\n",
    "# click login\n",
    "login = '/html/body/div/div/div/div/article/div/div/div/form/p[3]/button'\n",
    "driver.find_element_by_xpath(login).click()\n"
   ]
  },
  {
   "cell_type": "code",
   "execution_count": null,
   "metadata": {},
   "outputs": [],
   "source": [
    "url = 'https://www.bigdataball.com/nba-stats-central/'\n",
    "\n",
    "driver.get(url)\n",
    "\n",
    "# wait 5 seconds\n",
    "time.sleep(3)\n",
    "# find div with class 'files no-breadcrumb'\n",
    "files = driver.find_element_by_class_name('list-container')\n",
    "# get all html in div\n",
    "files_html = files.get_attribute('innerHTML')\n",
    "# get links from html\n",
    "soup = BeautifulSoup(files_html, 'html.parser')\n",
    "links = soup.find_all('a')\n",
    "# get href from links\n",
    "hrefs = [link.get('href') for link in links]\n",
    "# click each link\n",
    "for href in hrefs:\n",
    "    # click link\n",
    "    try:\n",
    "        driver.get(href)\n",
    "\n",
    "    except: \n",
    "        print('error')\n",
    "        continue"
   ]
  },
  {
   "cell_type": "code",
   "execution_count": null,
   "metadata": {},
   "outputs": [],
   "source": [
    "# get yesterdays date\n",
    "yesterday = datetime.date.today() - datetime.timedelta(days=1)\n",
    "# put in month-day-year format\n",
    "yesterday = yesterday.strftime('%m-%d-%Y')\n",
    "yesterday"
   ]
  },
  {
   "cell_type": "code",
   "execution_count": null,
   "metadata": {},
   "outputs": [],
   "source": [
    "file_name = 'C:\\\\Users\\\\Travis\\\\Downloads\\\\' + yesterday + '-nba-season-team-feed.xlsx'\n",
    "\n",
    "updated_df = pd.read_excel(file_name)\n",
    "\n",
    "updated_df.head()\n"
   ]
  },
  {
   "attachments": {},
   "cell_type": "markdown",
   "metadata": {},
   "source": [
    "### Add Columns"
   ]
  },
  {
   "cell_type": "code",
   "execution_count": null,
   "metadata": {},
   "outputs": [],
   "source": [
    "# open abbrev_interpretation\n",
    "abbrev_interpretation = pd.read_csv('data/team/bigdataball/Abbreviation_Interpreter.csv')\n",
    "abbrev_interpretation.head(3)"
   ]
  },
  {
   "cell_type": "code",
   "execution_count": null,
   "metadata": {},
   "outputs": [],
   "source": [
    "def get_abbrev(team):\n",
    "    abbrev = abbrev_interpretation.loc[abbrev_interpretation['SHORT NAME'] == team, 'INITIALS'].values[0]\n",
    "    return abbrev"
   ]
  },
  {
   "cell_type": "code",
   "execution_count": null,
   "metadata": {},
   "outputs": [],
   "source": [
    "updated_df['Team_Abrev'] = updated_df['TEAM'].apply(get_abbrev)\n",
    "updated_df"
   ]
  },
  {
   "cell_type": "code",
   "execution_count": null,
   "metadata": {},
   "outputs": [],
   "source": [
    "def get_nba_abbrev(team):\n",
    "    abbrev = abbrev_interpretation.loc[abbrev_interpretation['SHORT NAME'] == team, 'NBA_NAME'].values[0]\n",
    "    return abbrev"
   ]
  },
  {
   "cell_type": "code",
   "execution_count": null,
   "metadata": {},
   "outputs": [],
   "source": [
    "updated_df['Nba_com_team_Abbrev'] = updated_df['TEAM'].apply(get_nba_abbrev)\n",
    "updated_df.head()"
   ]
  },
  {
   "cell_type": "code",
   "execution_count": null,
   "metadata": {},
   "outputs": [],
   "source": [
    "def get_opp_abbrev(team, gameid):\n",
    "    opp = updated_df.loc[(updated_df['GAME-ID'] == gameid) & (updated_df['TEAM'] != team), 'Team_Abrev'].values[0]\n",
    "    return opp"
   ]
  },
  {
   "cell_type": "code",
   "execution_count": null,
   "metadata": {},
   "outputs": [],
   "source": [
    "updated_df['Opp_Abbrev'] = updated_df.apply(lambda x: get_opp_abbrev(x['TEAM'], x['GAME-ID']), axis=1)"
   ]
  },
  {
   "cell_type": "code",
   "execution_count": null,
   "metadata": {},
   "outputs": [],
   "source": [
    "updated_df.head()"
   ]
  },
  {
   "cell_type": "code",
   "execution_count": null,
   "metadata": {},
   "outputs": [],
   "source": [
    "def get_nba_opp_abbrev(team):\n",
    "    abbrev = abbrev_interpretation.loc[abbrev_interpretation['INITIALS'] == team, 'NBA_NAME'].values[0]\n",
    "    return abbrev"
   ]
  },
  {
   "cell_type": "code",
   "execution_count": null,
   "metadata": {},
   "outputs": [],
   "source": [
    "updated_df['Nba_com_team_2_abbrev'] = updated_df.apply(lambda x: get_nba_opp_abbrev(x['Opp_Abbrev']), axis=1)\n",
    "updated_df.head()"
   ]
  },
  {
   "cell_type": "code",
   "execution_count": null,
   "metadata": {},
   "outputs": [],
   "source": [
    "updated_df['Date_underscore'] = updated_df['DATE'].astype(str).str.replace('/', '_')"
   ]
  },
  {
   "cell_type": "code",
   "execution_count": null,
   "metadata": {},
   "outputs": [],
   "source": [
    "updated_df['HomeTeam'] = np.where(updated_df['VENUE'] == 'H', updated_df['Nba_com_team_Abbrev'], updated_df['Nba_com_team_2_abbrev'])"
   ]
  },
  {
   "cell_type": "code",
   "execution_count": null,
   "metadata": {},
   "outputs": [],
   "source": [
    "updated_df['AwayTeam'] = np.where(updated_df['VENUE'] == 'R', updated_df['Nba_com_team_Abbrev'], updated_df['Nba_com_team_2_abbrev'])"
   ]
  },
  {
   "cell_type": "code",
   "execution_count": null,
   "metadata": {},
   "outputs": [],
   "source": [
    "updated_df['Matchup_GameDate'] = updated_df['AwayTeam'] + ' @ ' + updated_df['HomeTeam'] + '_' + updated_df['Date_underscore']"
   ]
  },
  {
   "cell_type": "code",
   "execution_count": null,
   "metadata": {},
   "outputs": [],
   "source": [
    "updated_df"
   ]
  },
  {
   "cell_type": "code",
   "execution_count": null,
   "metadata": {},
   "outputs": [],
   "source": [
    "# save\n",
    "updated_df.to_csv('data/team/aggregates/bigdataball_team_boxes.csv', index=False)"
   ]
  },
  {
   "cell_type": "code",
   "execution_count": null,
   "metadata": {},
   "outputs": [],
   "source": []
  }
 ],
 "metadata": {
  "kernelspec": {
   "display_name": "Trav310",
   "language": "python",
   "name": "python3"
  },
  "language_info": {
   "codemirror_mode": {
    "name": "ipython",
    "version": 3
   },
   "file_extension": ".py",
   "mimetype": "text/x-python",
   "name": "python",
   "nbconvert_exporter": "python",
   "pygments_lexer": "ipython3",
   "version": "3.10.8 | packaged by conda-forge | (main, Nov  4 2022, 13:42:51) [MSC v.1916 64 bit (AMD64)]"
  },
  "orig_nbformat": 4,
  "vscode": {
   "interpreter": {
    "hash": "f69e36f0e9b2c8d9f319b417484f14b77c91d7bef950ad448542405eb1e0e594"
   }
  }
 },
 "nbformat": 4,
 "nbformat_minor": 2
}
